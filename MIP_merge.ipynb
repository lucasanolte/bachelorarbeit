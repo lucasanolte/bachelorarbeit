{
 "cells": [
  {
   "cell_type": "markdown",
   "metadata": {},
   "source": [
    "#MIP Merge"
   ]
  },
  {
   "cell_type": "markdown",
   "metadata": {},
   "source": [
    "This script merges the different data sets according to `b_crefo` (MUP ownership data, MUP MIP panel on the owners and the companies), turns them into panels and cleans the different columns"
   ]
  },
  {
   "cell_type": "code",
   "execution_count": 2,
   "metadata": {},
   "outputs": [],
   "source": [
    "import pandas as pd\n",
    "import numpy as np"
   ]
  },
  {
   "cell_type": "markdown",
   "metadata": {},
   "source": [
    "Load the data into DataFrames"
   ]
  },
  {
   "cell_type": "code",
   "execution_count": 3,
   "metadata": {},
   "outputs": [
    {
     "name": "stderr",
     "output_type": "stream",
     "text": [
      "C:\\Users\\lucas\\AppData\\Local\\Temp\\ipykernel_23508\\1245519110.py:3: DtypeWarning: Columns (3,13,32,33,34,35,36,37,39,47,58,59,60,61,62,63,64,65,68,69,72,73,77,82,85,87,88,89,90,91,92,93,94,95,96,97,98,99,100,101,102,103,104,105,106,107,108,109,110,111,112,113,114,115,143,144,145,146,147,148,149,150,151,152,153,154,155,156,157,158,159,160,161,162,163,164,165,166,167,168,169,170,171,172,173,174,175,176,177,178,179,180,181,183,184,190,192,193,194,195,197,201,202,203,204,215,219,220,221,222,223,224,231,232,235,236,238,239,240,241,242,244,246,247,248,249,250,251,252,253,254,255,256,257,258,259,260,261,262,263,264,265,266,267,268,269,270,271,272,273,274,275,276,277,278,279,280,281,282,283,284,285,286,287,288,289,290,291,292,309,310,311,312,313,314,315,316,317,318,319,320,321,322,323,324,325,326,327,328,329,330,331,332,333,334,335,336,337,338,339,340,341,342,343,344,345,346,347,348,349,350,351,352,353,354,355,356,357,358,370,384,392,393,394,395,396,397,411,413,419,422,423,424,425,426,427,428,429,430,431,432,433,434,448,451,453,456,458,461,463,466,468,471,473,476,478,481,483,485,486,487,488,489,490,491,492,493,494,495,496,497,498,499,500,501,502,503,504,524,525,526,533,534,535,537,538,539,540,541,542,543,544,546,549,550,551,552,553,554,555,556,557,558,559,560,561,562,563,564,565,566,567,568,569,570,571,572,573,574,575,576,577,579,582,589,592,596,597,598,601,604,605,606,610,611,612,613,621,622,623,628,629,630,631,632,633,635,641,645,646,647,648,649,650,651,652,653,654,655,656,657,658,659,660,661,662,663,664,665,666,667,668,669,670,671,672,673,674,675,676,677,678,709,710,711,713,714,715,722,727,740,741,742,743,744,745,746,750,753,756,758,762,771,774,775,776,777,778,779,780,781,782,783,784,785,786,787,788,789,790,791,792,793,794,795,796,797,798,799,800,801,802,803,804,805,806,807,808,809,810,811,812,813,814,815,816,817,818,819,820,821,822,846,902,908,909,910,949,966,967,968,969,970,971,972,973,974,975,977,978,979,980,981,982,983,984,985,986,988,989,990,991,992,993,996,997,998,999,1001,1023,1024,1025,1026,1027,1028,1029,1041,1042,1043,1044,1045,1046,1047,1048,1049,1050,1051,1052,1053,1054,1055,1056,1057,1090,1165,1198,1199,1200,1201,1202,1230,1248,1268,1293,1294,1372,1391,1392,1393,1394,1395,1396,1430,1431,1432,1433,1434,1435,1436,1437,1438,1439,1440,1441,1442,1443,1444,1445,1446,1447,1448,1449,1450,1451,1452,1453,1454,1455,1456,1485,1486,1487,1488,1489,1491,1506,1525,1528,1531,1535,1536,1544,1546) have mixed types. Specify dtype option on import or set low_memory=False.\n",
      "  df_companies = pd.read_csv(r\"C:\\Users\\lucas\\OneDrive\\BA\\Data\\Ownership_Change\\MUPMIP_panel_owned.csv\",\n",
      "C:\\Users\\lucas\\AppData\\Local\\Temp\\ipykernel_23508\\1245519110.py:5: DtypeWarning: Columns (3,220,222,223,224,313,314,315,317,318,319,321,322,323,325,326,327,332,333,335,336,337,338,341,342,343,346,347,348,349,351,352,355,356,357,550,597,646,648,650,652,654,656,658,667,776,778,779,780,781,782,783,784,785,786,787,789,790,791,792,793,795,796,798,799,800,801,802,803,804,805,806,807,808,809,810,811,812,813,988,989,990,991,1045,1046,1049,1050,1051,1052,1053,1054,1055,1056,1057,1165,1248,1294,1372,1391,1392,1393,1394,1395,1396,1430,1431,1432,1433,1434,1435,1436,1437,1438,1439,1440,1441,1442,1443,1444,1445,1446,1447,1448,1449,1450,1451,1452,1453,1454,1455,1456,1485,1486,1487,1488,1489,1491,1506,1525,1535,1536) have mixed types. Specify dtype option on import or set low_memory=False.\n",
      "  df_owners = pd.read_csv(r\"C:\\Users\\lucas\\OneDrive\\BA\\Data\\Ownership_Change\\MUPMIP_panel_owner.csv\",\n"
     ]
    }
   ],
   "source": [
    "df_ownership = pd.read_csv(r\"C:\\Users\\lucas\\OneDrive\\BA\\Data\\Ownership_Change\\MUPOwn.csv\", \n",
    "                           encoding=\"ISO-8859-1\")\n",
    "df_companies = pd.read_csv(r\"C:\\Users\\lucas\\OneDrive\\BA\\Data\\Ownership_Change\\MUPMIP_panel_owned.csv\", \n",
    "                           encoding=\"ISO-8859-1\")\n",
    "df_owners = pd.read_csv(r\"C:\\Users\\lucas\\OneDrive\\BA\\Data\\Ownership_Change\\MUPMIP_panel_owner.csv\", \n",
    "                        encoding=\"ISO-8859-1\")"
   ]
  },
  {
   "cell_type": "markdown",
   "metadata": {},
   "source": [
    "The flag `b_is_main_owner` is used to seperate minority from majority shareholders (defined as the owner of at least 50% of the equity), and, where there is no information on the percentage owned, only owners with following \"characteristics\" (dt. Eigenschaft) were considered majority: \"Owner\" (Inhaber), \"Shareholder\" (Gesellschafter), \"Limited Partner\" (Kommanditist), \"General Partner\" (Komplementär), and \"Majority Shareholder\" (Hauptaktionär)"
   ]
  },
  {
   "cell_type": "code",
   "execution_count": 4,
   "metadata": {},
   "outputs": [],
   "source": [
    "df_ownership[\"b_is_main_owner\"] = np.where(df_ownership[\"b_anteil\"] >= 50, True, \n",
    "                                           np.where((df_ownership[\"b_anteil\"].isna())\n",
    "                                           & (df_ownership[\"b_eigenschaft\"].str.contains(\"Inhaber|Gesellschafter|Kommanditist|Komplementär|Hauptaktionär\", regex=True)),\n",
    "                                             True, False))"
   ]
  },
  {
   "cell_type": "markdown",
   "metadata": {},
   "source": [
    "Specify the start and end year of the participation, as a step to turn the ownership data into a panel. The entries which have no start nor end date will be assigned all the years where there are observations in the MIP data set (first year 1993, last year 2021). The end date is set to 2023 for all participations which didn't end in the observation period or where there is no information so that 2021 is within the start to end range"
   ]
  },
  {
   "cell_type": "code",
   "execution_count": 5,
   "metadata": {},
   "outputs": [],
   "source": [
    "df_ownership[\"b_start_year\"] = df_ownership[\"b_beginn\"].astype(str).str[:4]\n",
    "df_ownership[\"b_end_year\"] = df_ownership[\"b_ende\"].astype(str).str[:4]\n",
    "df_ownership[\"b_start_year\"] = np.where(df_ownership[\"b_start_year\"] == \"0.0\", 1993, df_ownership[\"b_start_year\"])\n",
    "df_ownership[\"b_start_year\"] = np.where(df_ownership[\"b_start_year\"] == \"nan\", 1993, df_ownership[\"b_start_year\"])\n",
    "df_ownership[\"b_end_year\"] = np.where(df_ownership[\"b_end_year\"] == \"0.0\", 2023, df_ownership[\"b_end_year\"])\n",
    "df_ownership[\"b_end_year\"] = np.where(df_ownership[\"b_end_year\"] == \"nan\", 2023, df_ownership[\"b_end_year\"])"
   ]
  },
  {
   "cell_type": "markdown",
   "metadata": {},
   "source": [
    "Parse `b_start_year` and `b_end_year` to integers"
   ]
  },
  {
   "cell_type": "code",
   "execution_count": 6,
   "metadata": {},
   "outputs": [],
   "source": [
    "df_ownership[\"b_start_year\"] = pd.to_numeric(df_ownership[\"b_start_year\"], downcast=\"integer\")\n",
    "df_ownership[\"b_end_year\"] = pd.to_numeric(df_ownership[\"b_end_year\"], downcast=\"integer\")"
   ]
  },
  {
   "cell_type": "markdown",
   "metadata": {},
   "source": [
    "The array `survey_years` contains all the years with sample data for the companies in the MIP panel. Now I will create dummy variables for all sample years, so that we transform the ownership data frame later to a panel"
   ]
  },
  {
   "cell_type": "code",
   "execution_count": 7,
   "metadata": {},
   "outputs": [],
   "source": [
    "survey_years = np.unique(df_companies[\"jahr\"])\n",
    "for i in range(len(survey_years)):\n",
    "    df_ownership[str(survey_years[i])] = np.where((df_ownership[\"b_start_year\"] <= survey_years[i]) \n",
    "                                                  & (df_ownership[\"b_end_year\"] > survey_years[i]),True, False)"
   ]
  },
  {
   "cell_type": "markdown",
   "metadata": {},
   "source": [
    "Drop `b_firma` since it the correct information is encoded in `b_person`. "
   ]
  },
  {
   "cell_type": "code",
   "execution_count": 8,
   "metadata": {},
   "outputs": [],
   "source": [
    "df_ownership.drop(labels=\"b_firma\", axis=1, inplace=True)"
   ]
  },
  {
   "cell_type": "markdown",
   "metadata": {},
   "source": [
    "Drop all the entries that are not a main owner"
   ]
  },
  {
   "cell_type": "code",
   "execution_count": 9,
   "metadata": {},
   "outputs": [],
   "source": [
    "df_ownership = df_ownership[df_ownership[\"b_is_main_owner\"] == True]\n",
    "df_ownership.drop(labels=[\"b_is_main_owner\"], axis=1, inplace=True)"
   ]
  },
  {
   "cell_type": "markdown",
   "metadata": {},
   "source": [
    "If there are with the same `b_crefo` for the same year, keep the entry with the most recent wave"
   ]
  },
  {
   "cell_type": "code",
   "execution_count": 10,
   "metadata": {},
   "outputs": [],
   "source": [
    "df_ownership.sort_values(by=\"welle\", axis=0, ascending=False, inplace=True)\n",
    "df_ownership.drop_duplicates([\"b_crefo\", \"companyid\"], keep=\"first\", inplace=True)"
   ]
  },
  {
   "cell_type": "markdown",
   "metadata": {},
   "source": [
    "Drop all companies where there are more than 5 owners, and then assign a number from 1 to 5 for the pivot table afterwards"
   ]
  },
  {
   "cell_type": "code",
   "execution_count": 11,
   "metadata": {},
   "outputs": [],
   "source": [
    "df_ownership = df_ownership.groupby([\"companyid\"]).filter(lambda x: len(x) < 6)\n",
    "df_ownership[\"owner_number\"] = df_ownership.groupby([\"companyid\"])[\"b_crefo\"].rank(method=\"min\")"
   ]
  },
  {
   "cell_type": "markdown",
   "metadata": {},
   "source": [
    "`df_panel_ownership` now has the structure of a panel data set, after using `df.melt()`"
   ]
  },
  {
   "cell_type": "code",
   "execution_count": 12,
   "metadata": {},
   "outputs": [],
   "source": [
    "df_panel_ownership = df_ownership.melt(id_vars=['crefo', 'b_crefo', 'b_eigenschaft', 'b_betrag', 'b_anteil', \n",
    "                                                'b_beginn','b_ende', 'b_person', 'welle', 'companyid', \n",
    "                                                'ownerid', 'b_start_year', 'b_end_year', 'owner_number'],\n",
    "                                                  var_name=\"panel_year\")"
   ]
  },
  {
   "cell_type": "markdown",
   "metadata": {},
   "source": [
    "In this step, I filtered the data set to only have the years where there was an observation of the owner (i.e., the owner was owned the company at that year), and drop the `value` variable afterwards. I also removed the owners which do not have a `companyid`."
   ]
  },
  {
   "cell_type": "code",
   "execution_count": 13,
   "metadata": {},
   "outputs": [],
   "source": [
    "df_panel_ownership = df_panel_ownership[df_panel_ownership[\"value\"] == True]\n",
    "df_panel_ownership = df_panel_ownership[df_panel_ownership[\"companyid\"] >= 0]\n",
    "df_panel_ownership.drop(labels=[\"value\"], axis=1, inplace=True)"
   ]
  },
  {
   "cell_type": "markdown",
   "metadata": {},
   "source": [
    "Create a pivot table so that with `b_crefo` as value to match afterwards with the ownership table. This enables us to later check for changes in ownership more easily. NaN are filled with zero so that ownership changes can be spotted by subtracting a year's `b_crefo` value by last year's value. "
   ]
  },
  {
   "cell_type": "code",
   "execution_count": 14,
   "metadata": {},
   "outputs": [],
   "source": [
    "df_pivot_ownership = df_panel_ownership.pivot(index=[\"companyid\", \"panel_year\"], columns=\"owner_number\", values=\"b_crefo\").reset_index()\n",
    "df_pivot_ownership.fillna(0, inplace=True)"
   ]
  },
  {
   "cell_type": "markdown",
   "metadata": {},
   "source": [
    "Here we add up all the five different `b_crefo` together so that if there is a new owner or an old owner leaves, we can see that through the difference of this sum from one year to the next"
   ]
  },
  {
   "cell_type": "code",
   "execution_count": 15,
   "metadata": {},
   "outputs": [],
   "source": [
    "df_pivot_ownership[\"owner_sum\"] = df_pivot_ownership[1.0] + df_pivot_ownership[2.0] + df_pivot_ownership[3.0] + df_pivot_ownership[4.0] + df_pivot_ownership[5.0] \n",
    "df_pivot_ownership = df_pivot_ownership.assign(diff=df_pivot_ownership.groupby(['companyid']).owner_sum.diff())\n",
    "df_pivot_ownership.fillna(0, inplace=True)\n",
    "df_pivot_ownership[\"is_owner_change\"] = np.where(df_pivot_ownership[\"diff\"] != 0, True, False)                           "
   ]
  },
  {
   "cell_type": "markdown",
   "metadata": {},
   "source": [
    "Left outer merge with companies data: the option `left` when merging the ownership panel data and the companies panel data ensures that all ownership panel entries are kept and match with the available company panel data\n"
   ]
  },
  {
   "cell_type": "code",
   "execution_count": 16,
   "metadata": {},
   "outputs": [],
   "source": [
    "df_pivot_ownership[\"panel_year\"] = pd.to_numeric(df_pivot_ownership[\"panel_year\"])\n",
    "df_merged_companies = pd.merge(df_pivot_ownership, df_companies, how=\"left\", left_on=[\"panel_year\", \"companyid\"], right_on=[\"jahr\", \"companyid\"])"
   ]
  },
  {
   "cell_type": "markdown",
   "metadata": {},
   "source": [
    "Create a ownerid table, where all `b_crefo` values are mapped to NaN or to a `ownerid` value"
   ]
  },
  {
   "cell_type": "code",
   "execution_count": 17,
   "metadata": {},
   "outputs": [],
   "source": [
    "df_ownerid_table = pd.read_csv(r\"C:\\Users\\lucas\\OneDrive\\BA\\Data\\Ownership_Change\\MUPOwn.csv\", \n",
    "                           encoding=\"ISO-8859-1\")\n",
    "df_ownerid_table = df_ownerid_table[[\"b_crefo\", \"ownerid\"]]\n",
    "df_ownerid_table.drop_duplicates(inplace=True)\n",
    "df_ownerid_table.fillna(0, inplace=True)"
   ]
  },
  {
   "cell_type": "markdown",
   "metadata": {},
   "source": [
    "Create columns with `ownerid` entries and rename them after the merger"
   ]
  },
  {
   "cell_type": "code",
   "execution_count": 18,
   "metadata": {},
   "outputs": [],
   "source": [
    "df_merged_companies.rename({\n",
    "        1.0 : \"b_crefo_1\",\n",
    "        2.0 : \"b_crefo_2\",\n",
    "        3.0 : \"b_crefo_3\",\n",
    "        4.0 : \"b_crefo_4\",\n",
    "        5.0 : \"b_crefo_5\"\n",
    "    }, axis=1, inplace=True)\n",
    "for i in np.arange(start=1, stop=6):\n",
    "    current_column = \"b_crefo_\" + str(i)\n",
    "    df_merged_companies = pd.merge(df_ownerid_table, df_merged_companies, left_on=[\"b_crefo\"], right_on=[current_column], how=\"right\", suffixes=(str(i), ''))"
   ]
  },
  {
   "cell_type": "code",
   "execution_count": 19,
   "metadata": {},
   "outputs": [],
   "source": [
    "df_merged_companies.drop([\"b_crefo5\", \"b_crefo4\", \"b_crefo3\", \"b_crefo2\", \"b_crefo\"], axis=1, inplace=True)\n",
    "df_merged_companies.rename({\n",
    "    \"ownerid\" : \"ownerid_1\",\n",
    "    \"ownerid2\" : \"ownerid_2\",\n",
    "    \"ownerid3\" : \"ownerid_3\",\n",
    "    \"ownerid4\" : \"ownerid_4\",\n",
    "    \"ownerid5\" : \"ownerid_5\"\n",
    "}, axis=1, inplace=True)"
   ]
  },
  {
   "cell_type": "markdown",
   "metadata": {},
   "source": [
    "`is_ownerid_change` indicates if there is a change of ownership of owners which are included in the MIP data set (and therefore have an `ownerid`)"
   ]
  },
  {
   "cell_type": "code",
   "execution_count": 33,
   "metadata": {},
   "outputs": [],
   "source": [
    "df_merged_companies[\"ownerid_sum\"] = df_merged_companies[\"ownerid_1\"] + df_merged_companies[\"ownerid_2\"] +df_merged_companies[\"ownerid_3\"] + df_merged_companies[\"ownerid_4\"] + df_merged_companies[\"ownerid_5\"]\n",
    "df_merged_companies = df_merged_companies.assign(ownerid_diff=df_merged_companies.groupby(['companyid']).ownerid_sum.diff())\n",
    "df_merged_companies[\"ownerid_diff\"] = df_merged_companies[\"ownerid_diff\"].fillna(0)\n",
    "df_merged_companies[\"is_ownerid_change\"] = np.where(df_merged_companies[\"ownerid_diff\"] != 0, True, False)"
   ]
  },
  {
   "cell_type": "markdown",
   "metadata": {},
   "source": [
    "Create a table where the `ownerid` are matched with their MIP panel data information "
   ]
  },
  {
   "cell_type": "code",
   "execution_count": null,
   "metadata": {},
   "outputs": [],
   "source": [
    "df_merged_owners = pd.merge(left=df_merged_companies, right=df_owners) #Resolve the problem of having more than one ownerid per line"
   ]
  },
  {
   "cell_type": "markdown",
   "metadata": {},
   "source": [
    "Save the end result"
   ]
  },
  {
   "cell_type": "code",
   "execution_count": 37,
   "metadata": {},
   "outputs": [],
   "source": [
    "df_merged_companies.to_csv(r\"C:\\Users\\lucas\\OneDrive\\BA\\Data\\outputs\\merged_companies.csv\")"
   ]
  }
 ],
 "metadata": {
  "kernelspec": {
   "display_name": "Python 3",
   "language": "python",
   "name": "python3"
  },
  "language_info": {
   "codemirror_mode": {
    "name": "ipython",
    "version": 3
   },
   "file_extension": ".py",
   "mimetype": "text/x-python",
   "name": "python",
   "nbconvert_exporter": "python",
   "pygments_lexer": "ipython3",
   "version": "3.11.5"
  }
 },
 "nbformat": 4,
 "nbformat_minor": 2
}

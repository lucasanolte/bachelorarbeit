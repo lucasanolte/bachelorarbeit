{
 "cells": [
  {
   "cell_type": "markdown",
   "metadata": {},
   "source": [
    "#MIP Merge"
   ]
  },
  {
   "cell_type": "markdown",
   "metadata": {},
   "source": [
    "This script merges the different data sets (MUP ownership data, MUP MIP panel on the owners and the companies), turns them into panels and cleans the different columns"
   ]
  },
  {
   "cell_type": "code",
   "execution_count": 1,
   "metadata": {},
   "outputs": [],
   "source": [
    "import pandas as pd\n",
    "import numpy as np"
   ]
  },
  {
   "cell_type": "markdown",
   "metadata": {},
   "source": [
    "Load the data into DataFrames"
   ]
  },
  {
   "cell_type": "code",
   "execution_count": 125,
   "metadata": {},
   "outputs": [
    {
     "name": "stderr",
     "output_type": "stream",
     "text": [
      "C:\\Users\\lucas\\AppData\\Local\\Temp\\ipykernel_34780\\1245519110.py:3: DtypeWarning: Columns (3,13,32,33,34,35,36,37,39,47,58,59,60,61,62,63,64,65,68,69,72,73,77,82,85,87,88,89,90,91,92,93,94,95,96,97,98,99,100,101,102,103,104,105,106,107,108,109,110,111,112,113,114,115,143,144,145,146,147,148,149,150,151,152,153,154,155,156,157,158,159,160,161,162,163,164,165,166,167,168,169,170,171,172,173,174,175,176,177,178,179,180,181,183,184,190,192,193,194,195,197,201,202,203,204,215,219,220,221,222,223,224,231,232,235,236,238,239,240,241,242,244,246,247,248,249,250,251,252,253,254,255,256,257,258,259,260,261,262,263,264,265,266,267,268,269,270,271,272,273,274,275,276,277,278,279,280,281,282,283,284,285,286,287,288,289,290,291,292,309,310,311,312,313,314,315,316,317,318,319,320,321,322,323,324,325,326,327,328,329,330,331,332,333,334,335,336,337,338,339,340,341,342,343,344,345,346,347,348,349,350,351,352,353,354,355,356,357,358,370,384,392,393,394,395,396,397,411,413,419,422,423,424,425,426,427,428,429,430,431,432,433,434,448,451,453,456,458,461,463,466,468,471,473,476,478,481,483,485,486,487,488,489,490,491,492,493,494,495,496,497,498,499,500,501,502,503,504,524,525,526,533,534,535,537,538,539,540,541,542,543,544,546,549,550,551,552,553,554,555,556,557,558,559,560,561,562,563,564,565,566,567,568,569,570,571,572,573,574,575,576,577,579,582,589,592,596,597,598,601,604,605,606,610,611,612,613,621,622,623,628,629,630,631,632,633,635,641,645,646,647,648,649,650,651,652,653,654,655,656,657,658,659,660,661,662,663,664,665,666,667,668,669,670,671,672,673,674,675,676,677,678,709,710,711,713,714,715,722,727,740,741,742,743,744,745,746,750,753,756,758,762,771,774,775,776,777,778,779,780,781,782,783,784,785,786,787,788,789,790,791,792,793,794,795,796,797,798,799,800,801,802,803,804,805,806,807,808,809,810,811,812,813,814,815,816,817,818,819,820,821,822,846,902,908,909,910,949,966,967,968,969,970,971,972,973,974,975,977,978,979,980,981,982,983,984,985,986,988,989,990,991,992,993,996,997,998,999,1001,1023,1024,1025,1026,1027,1028,1029,1041,1042,1043,1044,1045,1046,1047,1048,1049,1050,1051,1052,1053,1054,1055,1056,1057,1090,1165,1198,1199,1200,1201,1202,1230,1248,1268,1293,1294,1372,1391,1392,1393,1394,1395,1396,1430,1431,1432,1433,1434,1435,1436,1437,1438,1439,1440,1441,1442,1443,1444,1445,1446,1447,1448,1449,1450,1451,1452,1453,1454,1455,1456,1485,1486,1487,1488,1489,1491,1506,1525,1528,1531,1535,1536,1544,1546) have mixed types. Specify dtype option on import or set low_memory=False.\n",
      "  df_companies = pd.read_csv(r\"C:\\Users\\lucas\\OneDrive\\BA\\Data\\Ownership_Change\\MUPMIP_panel_owned.csv\",\n",
      "C:\\Users\\lucas\\AppData\\Local\\Temp\\ipykernel_34780\\1245519110.py:5: DtypeWarning: Columns (3,220,222,223,224,313,314,315,317,318,319,321,322,323,325,326,327,332,333,335,336,337,338,341,342,343,346,347,348,349,351,352,355,356,357,550,597,646,648,650,652,654,656,658,667,776,778,779,780,781,782,783,784,785,786,787,789,790,791,792,793,795,796,798,799,800,801,802,803,804,805,806,807,808,809,810,811,812,813,988,989,990,991,1045,1046,1049,1050,1051,1052,1053,1054,1055,1056,1057,1165,1248,1294,1372,1391,1392,1393,1394,1395,1396,1430,1431,1432,1433,1434,1435,1436,1437,1438,1439,1440,1441,1442,1443,1444,1445,1446,1447,1448,1449,1450,1451,1452,1453,1454,1455,1456,1485,1486,1487,1488,1489,1491,1506,1525,1535,1536) have mixed types. Specify dtype option on import or set low_memory=False.\n",
      "  df_owners = pd.read_csv(r\"C:\\Users\\lucas\\OneDrive\\BA\\Data\\Ownership_Change\\MUPMIP_panel_owner.csv\",\n"
     ]
    }
   ],
   "source": [
    "df_ownership = pd.read_csv(r\"C:\\Users\\lucas\\OneDrive\\BA\\Data\\Ownership_Change\\MUPOwn.csv\", \n",
    "                           encoding=\"ISO-8859-1\")\n",
    "df_companies = pd.read_csv(r\"C:\\Users\\lucas\\OneDrive\\BA\\Data\\Ownership_Change\\MUPMIP_panel_owned.csv\", \n",
    "                           encoding=\"ISO-8859-1\")\n",
    "df_owners = pd.read_csv(r\"C:\\Users\\lucas\\OneDrive\\BA\\Data\\Ownership_Change\\MUPMIP_panel_owner.csv\", \n",
    "                        encoding=\"ISO-8859-1\")"
   ]
  },
  {
   "cell_type": "markdown",
   "metadata": {},
   "source": [
    "The flag `b_is_main_owner` is used to seperate minority from majority shareholders (defined as the owner of at least 50% of the equity), and, where there is no information on the percentage owned, only owners with following \"characteristics\" (dt. Eigenschaft) were considered majority: \"Owner\" (Inhaber), \"Shareholder\" (Gesellschafter), \"Limited Partner\" (Kommanditist), \"General Partner\" (Komplementär), and \"Majority Shareholder\" (Hauptaktionär)"
   ]
  },
  {
   "cell_type": "code",
   "execution_count": 126,
   "metadata": {},
   "outputs": [],
   "source": [
    "df_ownership[\"b_is_main_owner\"] = np.where(df_ownership[\"b_anteil\"] >= 50, True, \n",
    "                                           np.where((df_ownership[\"b_anteil\"].isna())\n",
    "                                           & (df_ownership[\"b_eigenschaft\"].str.contains(\"Inhaber|Gesellschafter|Kommanditist|Komplementär|Hauptaktionär\", regex=True)),\n",
    "                                             True, False))"
   ]
  },
  {
   "cell_type": "markdown",
   "metadata": {},
   "source": [
    "Specify the start and end year of the participation, as a step to turn the ownership data into a panel. The entries which have no start nor end date will be assigned all the years where there are observations in the MIP data set (first year 1993, last year 2021). The end date is set to 2023 for all participations which didn't end in the observation period or where there is no information so that 2021 is within the start to end range"
   ]
  },
  {
   "cell_type": "code",
   "execution_count": 127,
   "metadata": {},
   "outputs": [],
   "source": [
    "df_ownership[\"b_start_year\"] = df_ownership[\"b_beginn\"].astype(str).str[:4]\n",
    "df_ownership[\"b_end_year\"] = df_ownership[\"b_ende\"].astype(str).str[:4]\n",
    "df_ownership[\"b_start_year\"] = np.where(df_ownership[\"b_start_year\"] == \"0.0\", 1993, df_ownership[\"b_start_year\"])\n",
    "df_ownership[\"b_start_year\"] = np.where(df_ownership[\"b_start_year\"] == \"nan\", 1993, df_ownership[\"b_start_year\"])\n",
    "df_ownership[\"b_end_year\"] = np.where(df_ownership[\"b_end_year\"] == \"0.0\", 2023, df_ownership[\"b_end_year\"])\n",
    "df_ownership[\"b_end_year\"] = np.where(df_ownership[\"b_end_year\"] == \"nan\", 2023, df_ownership[\"b_end_year\"])"
   ]
  },
  {
   "cell_type": "markdown",
   "metadata": {},
   "source": [
    "Parse `b_start_year` and `b_end_year` to integers"
   ]
  },
  {
   "cell_type": "code",
   "execution_count": 128,
   "metadata": {},
   "outputs": [],
   "source": [
    "df_ownership[\"b_start_year\"] = pd.to_numeric(df_ownership[\"b_start_year\"], downcast=\"integer\")\n",
    "df_ownership[\"b_end_year\"] = pd.to_numeric(df_ownership[\"b_end_year\"], downcast=\"integer\")"
   ]
  },
  {
   "cell_type": "markdown",
   "metadata": {},
   "source": [
    "The array `survey_years` contains all the years with sample data for the companies in the MIP panel. Now I will create dummy variables for all sample years, so that we transform the ownership data frame later to a panel"
   ]
  },
  {
   "cell_type": "code",
   "execution_count": 129,
   "metadata": {},
   "outputs": [],
   "source": [
    "survey_years = np.unique(df_companies[\"jahr\"])\n",
    "for i in range(len(survey_years)):\n",
    "    df_ownership[str(survey_years[i])] = np.where((df_ownership[\"b_start_year\"] <= survey_years[i]) \n",
    "                                                  & (df_ownership[\"b_end_year\"] > survey_years[i]),True, False)"
   ]
  },
  {
   "cell_type": "markdown",
   "metadata": {},
   "source": [
    "`df_panel_ownership` now has the structure of a panel data set, after using `df.melt()`"
   ]
  },
  {
   "cell_type": "code",
   "execution_count": 130,
   "metadata": {},
   "outputs": [],
   "source": [
    "df_panel_ownership = df_ownership.melt(id_vars=['crefo', 'b_crefo', 'b_eigenschaft', 'b_betrag', 'b_anteil', \n",
    "                                                'b_beginn','b_ende', 'b_firma', 'b_person', 'welle', 'companyid', \n",
    "                                                'ownerid','b_is_main_owner', 'b_start_year', 'b_end_year'],\n",
    "                                                  var_name=\"panel_year\")"
   ]
  },
  {
   "cell_type": "markdown",
   "metadata": {},
   "source": [
    "In this step, I filtered data set to only have the years where there was an observation on the owner and to only have the main owners included, and drop the variables afterwards. I also removed the owners which do not have a companyid."
   ]
  },
  {
   "cell_type": "code",
   "execution_count": 131,
   "metadata": {},
   "outputs": [],
   "source": [
    "df_panel_ownership = df_panel_ownership[df_panel_ownership[\"value\"] == True]\n",
    "df_panel_ownership = df_panel_ownership[df_panel_ownership[\"b_is_main_owner\"] == True]\n",
    "df_panel_ownership = df_panel_ownership[df_panel_ownership[\"companyid\"] >= 0]\n",
    "df_panel_ownership.drop(labels=[\"value\", \"b_is_main_owner\"], axis=1, inplace=True)"
   ]
  },
  {
   "cell_type": "markdown",
   "metadata": {},
   "source": [
    "Currently, we have 48.889 different owners corresponding to 23.146 companies, and 1.1 million observations in our data set"
   ]
  },
  {
   "cell_type": "code",
   "execution_count": 132,
   "metadata": {},
   "outputs": [
    {
     "name": "stdout",
     "output_type": "stream",
     "text": [
      "48899\n",
      "1142976\n",
      "23146\n"
     ]
    }
   ],
   "source": [
    "print(len(df_panel_ownership[\"b_crefo\"].unique()))\n",
    "print(len(df_panel_ownership))\n",
    "print(len(df_panel_ownership[\"companyid\"].unique()))"
   ]
  },
  {
   "cell_type": "markdown",
   "metadata": {},
   "source": [
    "If there are with the same `b_crefo` for the same year, keep the entry with the most recent wave"
   ]
  },
  {
   "cell_type": "code",
   "execution_count": 137,
   "metadata": {},
   "outputs": [],
   "source": [
    "df_panel_ownership.sort_values(by=\"welle\", axis=0, ascending=False, inplace=True)\n",
    "df_panel_ownership.drop_duplicates([\"b_crefo\", \"panel_year\"], keep=\"first\", inplace=True)"
   ]
  },
  {
   "cell_type": "markdown",
   "metadata": {},
   "source": []
  },
  {
   "cell_type": "code",
   "execution_count": null,
   "metadata": {},
   "outputs": [],
   "source": [
    "#Drop all companies where there are more than 5 owners"
   ]
  },
  {
   "cell_type": "markdown",
   "metadata": {},
   "source": [
    "Inner merge with companies data: the option `inner` when merging the ownership panel data and the companies panel data ensures that only companies with ownership data (and vice-versa, i.e. only ownership data linked to a company) end up in the merged data set"
   ]
  },
  {
   "cell_type": "code",
   "execution_count": 138,
   "metadata": {},
   "outputs": [
    {
     "data": {
      "text/html": [
       "<div>\n",
       "<style scoped>\n",
       "    .dataframe tbody tr th:only-of-type {\n",
       "        vertical-align: middle;\n",
       "    }\n",
       "\n",
       "    .dataframe tbody tr th {\n",
       "        vertical-align: top;\n",
       "    }\n",
       "\n",
       "    .dataframe thead th {\n",
       "        text-align: right;\n",
       "    }\n",
       "</style>\n",
       "<table border=\"1\" class=\"dataframe\">\n",
       "  <thead>\n",
       "    <tr style=\"text-align: right;\">\n",
       "      <th></th>\n",
       "      <th>crefo</th>\n",
       "      <th>b_crefo</th>\n",
       "      <th>b_eigenschaft</th>\n",
       "      <th>b_betrag</th>\n",
       "      <th>b_anteil</th>\n",
       "      <th>b_beginn</th>\n",
       "      <th>b_ende</th>\n",
       "      <th>b_firma</th>\n",
       "      <th>b_person</th>\n",
       "      <th>welle_x</th>\n",
       "      <th>...</th>\n",
       "      <th>ghe3</th>\n",
       "      <th>ghp1</th>\n",
       "      <th>ghp2</th>\n",
       "      <th>ghvarp</th>\n",
       "      <th>maein1</th>\n",
       "      <th>maein2</th>\n",
       "      <th>maein3</th>\n",
       "      <th>maein4</th>\n",
       "      <th>maein5</th>\n",
       "      <th>_merge</th>\n",
       "    </tr>\n",
       "  </thead>\n",
       "  <tbody>\n",
       "    <tr>\n",
       "      <th>0</th>\n",
       "      <td>4070054625</td>\n",
       "      <td>4070293685</td>\n",
       "      <td>Kommanditist</td>\n",
       "      <td>1105000.0</td>\n",
       "      <td>NaN</td>\n",
       "      <td>20080101.0</td>\n",
       "      <td>0.0</td>\n",
       "      <td>nat. Person</td>\n",
       "      <td>nat. Person</td>\n",
       "      <td>63</td>\n",
       "      <td>...</td>\n",
       "      <td>NaN</td>\n",
       "      <td>NaN</td>\n",
       "      <td>NaN</td>\n",
       "      <td>NaN</td>\n",
       "      <td>NaN</td>\n",
       "      <td>NaN</td>\n",
       "      <td>NaN</td>\n",
       "      <td>NaN</td>\n",
       "      <td>NaN</td>\n",
       "      <td>matched (3)</td>\n",
       "    </tr>\n",
       "    <tr>\n",
       "      <th>1</th>\n",
       "      <td>4070054625</td>\n",
       "      <td>4070054622</td>\n",
       "      <td>Kommanditist</td>\n",
       "      <td>195000.0</td>\n",
       "      <td>NaN</td>\n",
       "      <td>0.0</td>\n",
       "      <td>0.0</td>\n",
       "      <td>nat. Person</td>\n",
       "      <td>nat. Person</td>\n",
       "      <td>63</td>\n",
       "      <td>...</td>\n",
       "      <td>NaN</td>\n",
       "      <td>NaN</td>\n",
       "      <td>NaN</td>\n",
       "      <td>NaN</td>\n",
       "      <td>NaN</td>\n",
       "      <td>NaN</td>\n",
       "      <td>NaN</td>\n",
       "      <td>NaN</td>\n",
       "      <td>NaN</td>\n",
       "      <td>matched (3)</td>\n",
       "    </tr>\n",
       "    <tr>\n",
       "      <th>2</th>\n",
       "      <td>4070054625</td>\n",
       "      <td>4070054618</td>\n",
       "      <td>Komplementär</td>\n",
       "      <td>NaN</td>\n",
       "      <td>NaN</td>\n",
       "      <td>19730125.0</td>\n",
       "      <td>0.0</td>\n",
       "      <td>Unternehmen</td>\n",
       "      <td>Unternehmen</td>\n",
       "      <td>62</td>\n",
       "      <td>...</td>\n",
       "      <td>NaN</td>\n",
       "      <td>NaN</td>\n",
       "      <td>NaN</td>\n",
       "      <td>NaN</td>\n",
       "      <td>NaN</td>\n",
       "      <td>NaN</td>\n",
       "      <td>NaN</td>\n",
       "      <td>NaN</td>\n",
       "      <td>NaN</td>\n",
       "      <td>matched (3)</td>\n",
       "    </tr>\n",
       "    <tr>\n",
       "      <th>3</th>\n",
       "      <td>4070054625</td>\n",
       "      <td>4070054623</td>\n",
       "      <td>Kommanditist</td>\n",
       "      <td>130000.0</td>\n",
       "      <td>NaN</td>\n",
       "      <td>0.0</td>\n",
       "      <td>0.0</td>\n",
       "      <td>nat. Person</td>\n",
       "      <td>nat. Person</td>\n",
       "      <td>62</td>\n",
       "      <td>...</td>\n",
       "      <td>NaN</td>\n",
       "      <td>NaN</td>\n",
       "      <td>NaN</td>\n",
       "      <td>NaN</td>\n",
       "      <td>NaN</td>\n",
       "      <td>NaN</td>\n",
       "      <td>NaN</td>\n",
       "      <td>NaN</td>\n",
       "      <td>NaN</td>\n",
       "      <td>matched (3)</td>\n",
       "    </tr>\n",
       "    <tr>\n",
       "      <th>4</th>\n",
       "      <td>4070054625</td>\n",
       "      <td>4070346252</td>\n",
       "      <td>Kommanditist</td>\n",
       "      <td>1170000.0</td>\n",
       "      <td>NaN</td>\n",
       "      <td>20080101.0</td>\n",
       "      <td>0.0</td>\n",
       "      <td>nat. Person</td>\n",
       "      <td>nat. Person</td>\n",
       "      <td>62</td>\n",
       "      <td>...</td>\n",
       "      <td>NaN</td>\n",
       "      <td>NaN</td>\n",
       "      <td>NaN</td>\n",
       "      <td>NaN</td>\n",
       "      <td>NaN</td>\n",
       "      <td>NaN</td>\n",
       "      <td>NaN</td>\n",
       "      <td>NaN</td>\n",
       "      <td>NaN</td>\n",
       "      <td>matched (3)</td>\n",
       "    </tr>\n",
       "    <tr>\n",
       "      <th>...</th>\n",
       "      <td>...</td>\n",
       "      <td>...</td>\n",
       "      <td>...</td>\n",
       "      <td>...</td>\n",
       "      <td>...</td>\n",
       "      <td>...</td>\n",
       "      <td>...</td>\n",
       "      <td>...</td>\n",
       "      <td>...</td>\n",
       "      <td>...</td>\n",
       "      <td>...</td>\n",
       "      <td>...</td>\n",
       "      <td>...</td>\n",
       "      <td>...</td>\n",
       "      <td>...</td>\n",
       "      <td>...</td>\n",
       "      <td>...</td>\n",
       "      <td>...</td>\n",
       "      <td>...</td>\n",
       "      <td>...</td>\n",
       "      <td>...</td>\n",
       "    </tr>\n",
       "    <tr>\n",
       "      <th>131825</th>\n",
       "      <td>7330295814</td>\n",
       "      <td>7330295816</td>\n",
       "      <td>Gesellschafter</td>\n",
       "      <td>100000.0</td>\n",
       "      <td>50.0</td>\n",
       "      <td>19900907.0</td>\n",
       "      <td>0.0</td>\n",
       "      <td>nat. Person</td>\n",
       "      <td>nat. Person</td>\n",
       "      <td>30</td>\n",
       "      <td>...</td>\n",
       "      <td>NaN</td>\n",
       "      <td>NaN</td>\n",
       "      <td>NaN</td>\n",
       "      <td>NaN</td>\n",
       "      <td>NaN</td>\n",
       "      <td>NaN</td>\n",
       "      <td>NaN</td>\n",
       "      <td>NaN</td>\n",
       "      <td>NaN</td>\n",
       "      <td>matched (3)</td>\n",
       "    </tr>\n",
       "    <tr>\n",
       "      <th>131826</th>\n",
       "      <td>4090134731</td>\n",
       "      <td>4090172384</td>\n",
       "      <td>Gesellschafter</td>\n",
       "      <td>12500.0</td>\n",
       "      <td>50.0</td>\n",
       "      <td>0.0</td>\n",
       "      <td>0.0</td>\n",
       "      <td>nat. Person</td>\n",
       "      <td>nat. Person</td>\n",
       "      <td>30</td>\n",
       "      <td>...</td>\n",
       "      <td>NaN</td>\n",
       "      <td>NaN</td>\n",
       "      <td>NaN</td>\n",
       "      <td>NaN</td>\n",
       "      <td>NaN</td>\n",
       "      <td>NaN</td>\n",
       "      <td>NaN</td>\n",
       "      <td>NaN</td>\n",
       "      <td>NaN</td>\n",
       "      <td>matched (3)</td>\n",
       "    </tr>\n",
       "    <tr>\n",
       "      <th>131827</th>\n",
       "      <td>4090134731</td>\n",
       "      <td>4090134732</td>\n",
       "      <td>Gesellschafter</td>\n",
       "      <td>12500.0</td>\n",
       "      <td>50.0</td>\n",
       "      <td>0.0</td>\n",
       "      <td>0.0</td>\n",
       "      <td>nat. Person</td>\n",
       "      <td>nat. Person</td>\n",
       "      <td>30</td>\n",
       "      <td>...</td>\n",
       "      <td>NaN</td>\n",
       "      <td>NaN</td>\n",
       "      <td>NaN</td>\n",
       "      <td>NaN</td>\n",
       "      <td>NaN</td>\n",
       "      <td>NaN</td>\n",
       "      <td>NaN</td>\n",
       "      <td>NaN</td>\n",
       "      <td>NaN</td>\n",
       "      <td>matched (3)</td>\n",
       "    </tr>\n",
       "    <tr>\n",
       "      <th>131828</th>\n",
       "      <td>8110038542</td>\n",
       "      <td>8110038543</td>\n",
       "      <td>Gesellschafter</td>\n",
       "      <td>26000.0</td>\n",
       "      <td>100.0</td>\n",
       "      <td>0.0</td>\n",
       "      <td>0.0</td>\n",
       "      <td>nat. Person</td>\n",
       "      <td>nat. Person</td>\n",
       "      <td>30</td>\n",
       "      <td>...</td>\n",
       "      <td>NaN</td>\n",
       "      <td>NaN</td>\n",
       "      <td>NaN</td>\n",
       "      <td>NaN</td>\n",
       "      <td>NaN</td>\n",
       "      <td>NaN</td>\n",
       "      <td>NaN</td>\n",
       "      <td>NaN</td>\n",
       "      <td>NaN</td>\n",
       "      <td>matched (3)</td>\n",
       "    </tr>\n",
       "    <tr>\n",
       "      <th>131829</th>\n",
       "      <td>4110003598</td>\n",
       "      <td>4110003602</td>\n",
       "      <td>Gesellschafter</td>\n",
       "      <td>1048148.0</td>\n",
       "      <td>100.0</td>\n",
       "      <td>0.0</td>\n",
       "      <td>0.0</td>\n",
       "      <td>Unternehmen</td>\n",
       "      <td>Unternehmen</td>\n",
       "      <td>30</td>\n",
       "      <td>...</td>\n",
       "      <td>NaN</td>\n",
       "      <td>NaN</td>\n",
       "      <td>NaN</td>\n",
       "      <td>NaN</td>\n",
       "      <td>NaN</td>\n",
       "      <td>NaN</td>\n",
       "      <td>NaN</td>\n",
       "      <td>NaN</td>\n",
       "      <td>NaN</td>\n",
       "      <td>matched (3)</td>\n",
       "    </tr>\n",
       "  </tbody>\n",
       "</table>\n",
       "<p>131830 rows × 1631 columns</p>\n",
       "</div>"
      ],
      "text/plain": [
       "             crefo     b_crefo   b_eigenschaft   b_betrag  b_anteil  \\\n",
       "0       4070054625  4070293685    Kommanditist  1105000.0       NaN   \n",
       "1       4070054625  4070054622    Kommanditist   195000.0       NaN   \n",
       "2       4070054625  4070054618    Komplementär        NaN       NaN   \n",
       "3       4070054625  4070054623    Kommanditist   130000.0       NaN   \n",
       "4       4070054625  4070346252    Kommanditist  1170000.0       NaN   \n",
       "...            ...         ...             ...        ...       ...   \n",
       "131825  7330295814  7330295816  Gesellschafter   100000.0      50.0   \n",
       "131826  4090134731  4090172384  Gesellschafter    12500.0      50.0   \n",
       "131827  4090134731  4090134732  Gesellschafter    12500.0      50.0   \n",
       "131828  8110038542  8110038543  Gesellschafter    26000.0     100.0   \n",
       "131829  4110003598  4110003602  Gesellschafter  1048148.0     100.0   \n",
       "\n",
       "          b_beginn  b_ende      b_firma     b_person  welle_x  ...  ghe3  \\\n",
       "0       20080101.0     0.0  nat. Person  nat. Person       63  ...   NaN   \n",
       "1              0.0     0.0  nat. Person  nat. Person       63  ...   NaN   \n",
       "2       19730125.0     0.0  Unternehmen  Unternehmen       62  ...   NaN   \n",
       "3              0.0     0.0  nat. Person  nat. Person       62  ...   NaN   \n",
       "4       20080101.0     0.0  nat. Person  nat. Person       62  ...   NaN   \n",
       "...            ...     ...          ...          ...      ...  ...   ...   \n",
       "131825  19900907.0     0.0  nat. Person  nat. Person       30  ...   NaN   \n",
       "131826         0.0     0.0  nat. Person  nat. Person       30  ...   NaN   \n",
       "131827         0.0     0.0  nat. Person  nat. Person       30  ...   NaN   \n",
       "131828         0.0     0.0  nat. Person  nat. Person       30  ...   NaN   \n",
       "131829         0.0     0.0  Unternehmen  Unternehmen       30  ...   NaN   \n",
       "\n",
       "        ghp1  ghp2  ghvarp  maein1  maein2 maein3  maein4 maein5       _merge  \n",
       "0        NaN   NaN     NaN     NaN     NaN    NaN     NaN    NaN  matched (3)  \n",
       "1        NaN   NaN     NaN     NaN     NaN    NaN     NaN    NaN  matched (3)  \n",
       "2        NaN   NaN     NaN     NaN     NaN    NaN     NaN    NaN  matched (3)  \n",
       "3        NaN   NaN     NaN     NaN     NaN    NaN     NaN    NaN  matched (3)  \n",
       "4        NaN   NaN     NaN     NaN     NaN    NaN     NaN    NaN  matched (3)  \n",
       "...      ...   ...     ...     ...     ...    ...     ...    ...          ...  \n",
       "131825   NaN   NaN     NaN     NaN     NaN    NaN     NaN    NaN  matched (3)  \n",
       "131826   NaN   NaN     NaN     NaN     NaN    NaN     NaN    NaN  matched (3)  \n",
       "131827   NaN   NaN     NaN     NaN     NaN    NaN     NaN    NaN  matched (3)  \n",
       "131828   NaN   NaN     NaN     NaN     NaN    NaN     NaN    NaN  matched (3)  \n",
       "131829   NaN   NaN     NaN     NaN     NaN    NaN     NaN    NaN  matched (3)  \n",
       "\n",
       "[131830 rows x 1631 columns]"
      ]
     },
     "execution_count": 138,
     "metadata": {},
     "output_type": "execute_result"
    }
   ],
   "source": [
    "df_panel_ownership[\"panel_year\"] = pd.to_numeric(df_panel_ownership[\"panel_year\"])\n",
    "df_merged_companies = pd.merge(df_panel_ownership, df_companies, how=\"inner\", left_on=[\"panel_year\", \"companyid\"], right_on=[\"jahr\", \"companyid\"])\n",
    "df_merged_companies"
   ]
  },
  {
   "cell_type": "markdown",
   "metadata": {},
   "source": [
    "21.975 companies contained in the merged data set"
   ]
  },
  {
   "cell_type": "code",
   "execution_count": 139,
   "metadata": {},
   "outputs": [
    {
     "data": {
      "text/plain": [
       "21975"
      ]
     },
     "execution_count": 139,
     "metadata": {},
     "output_type": "execute_result"
    }
   ],
   "source": [
    "len(df_merged_companies[\"companyid\"].value_counts())"
   ]
  },
  {
   "cell_type": "markdown",
   "metadata": {},
   "source": [
    "Create a file with all variables and their descriptions, in order to sort out which ones are needed"
   ]
  },
  {
   "cell_type": "code",
   "execution_count": 13,
   "metadata": {},
   "outputs": [],
   "source": [
    "df_columns = pd.DataFrame(df_merged_companies.columns)\n",
    "df_columns.columns = [\"labels\"]\n",
    "df_descriptions_own = pd.read_excel(r\"C:\\Users\\lucas\\OneDrive\\BA\\Data\\MUPOwn_panel_variables.xlsx\")\n",
    "df_descriptions_mip = pd.read_excel(r\"C:\\Users\\lucas\\OneDrive\\BA\\Data\\MUPMIP_panel_variables.xlsx\")\n",
    "df_columns = pd.merge(df_columns, df_descriptions_own, how=\"left\", left_on=\"labels\", right_on=\"name\")\n",
    "df_columns = pd.merge(df_columns, df_descriptions_mip, how=\"left\", left_on=\"labels\", right_on=\"name\")\n",
    "df_columns.to_csv(r\"C:\\Users\\lucas\\OneDrive\\BA\\Data\\merged_variables.csv\")"
   ]
  }
 ],
 "metadata": {
  "kernelspec": {
   "display_name": "Python 3",
   "language": "python",
   "name": "python3"
  },
  "language_info": {
   "codemirror_mode": {
    "name": "ipython",
    "version": 3
   },
   "file_extension": ".py",
   "mimetype": "text/x-python",
   "name": "python",
   "nbconvert_exporter": "python",
   "pygments_lexer": "ipython3",
   "version": "3.11.5"
  }
 },
 "nbformat": 4,
 "nbformat_minor": 2
}

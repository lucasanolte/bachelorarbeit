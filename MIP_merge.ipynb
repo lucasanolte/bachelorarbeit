{
 "cells": [
  {
   "cell_type": "markdown",
   "metadata": {},
   "source": [
    "#MIP Merge"
   ]
  },
  {
   "cell_type": "markdown",
   "metadata": {},
   "source": [
    "This script merges the different data sets (MUP ownership data, MUP MIP panel on the owners and the companies), turns them into panels and cleans the different columns"
   ]
  },
  {
   "cell_type": "code",
   "execution_count": 1,
   "metadata": {},
   "outputs": [],
   "source": [
    "import pandas as pd\n",
    "import numpy as np"
   ]
  },
  {
   "cell_type": "markdown",
   "metadata": {},
   "source": [
    "Load the data into DataFrames"
   ]
  },
  {
   "cell_type": "code",
   "execution_count": 2,
   "metadata": {},
   "outputs": [
    {
     "name": "stderr",
     "output_type": "stream",
     "text": [
      "C:\\Users\\lucas\\AppData\\Local\\Temp\\ipykernel_34780\\1245519110.py:3: DtypeWarning: Columns (3,13,32,33,34,35,36,37,39,47,58,59,60,61,62,63,64,65,68,69,72,73,77,82,85,87,88,89,90,91,92,93,94,95,96,97,98,99,100,101,102,103,104,105,106,107,108,109,110,111,112,113,114,115,143,144,145,146,147,148,149,150,151,152,153,154,155,156,157,158,159,160,161,162,163,164,165,166,167,168,169,170,171,172,173,174,175,176,177,178,179,180,181,183,184,190,192,193,194,195,197,201,202,203,204,215,219,220,221,222,223,224,231,232,235,236,238,239,240,241,242,244,246,247,248,249,250,251,252,253,254,255,256,257,258,259,260,261,262,263,264,265,266,267,268,269,270,271,272,273,274,275,276,277,278,279,280,281,282,283,284,285,286,287,288,289,290,291,292,309,310,311,312,313,314,315,316,317,318,319,320,321,322,323,324,325,326,327,328,329,330,331,332,333,334,335,336,337,338,339,340,341,342,343,344,345,346,347,348,349,350,351,352,353,354,355,356,357,358,370,384,392,393,394,395,396,397,411,413,419,422,423,424,425,426,427,428,429,430,431,432,433,434,448,451,453,456,458,461,463,466,468,471,473,476,478,481,483,485,486,487,488,489,490,491,492,493,494,495,496,497,498,499,500,501,502,503,504,524,525,526,533,534,535,537,538,539,540,541,542,543,544,546,549,550,551,552,553,554,555,556,557,558,559,560,561,562,563,564,565,566,567,568,569,570,571,572,573,574,575,576,577,579,582,589,592,596,597,598,601,604,605,606,610,611,612,613,621,622,623,628,629,630,631,632,633,635,641,645,646,647,648,649,650,651,652,653,654,655,656,657,658,659,660,661,662,663,664,665,666,667,668,669,670,671,672,673,674,675,676,677,678,709,710,711,713,714,715,722,727,740,741,742,743,744,745,746,750,753,756,758,762,771,774,775,776,777,778,779,780,781,782,783,784,785,786,787,788,789,790,791,792,793,794,795,796,797,798,799,800,801,802,803,804,805,806,807,808,809,810,811,812,813,814,815,816,817,818,819,820,821,822,846,902,908,909,910,949,966,967,968,969,970,971,972,973,974,975,977,978,979,980,981,982,983,984,985,986,988,989,990,991,992,993,996,997,998,999,1001,1023,1024,1025,1026,1027,1028,1029,1041,1042,1043,1044,1045,1046,1047,1048,1049,1050,1051,1052,1053,1054,1055,1056,1057,1090,1165,1198,1199,1200,1201,1202,1230,1248,1268,1293,1294,1372,1391,1392,1393,1394,1395,1396,1430,1431,1432,1433,1434,1435,1436,1437,1438,1439,1440,1441,1442,1443,1444,1445,1446,1447,1448,1449,1450,1451,1452,1453,1454,1455,1456,1485,1486,1487,1488,1489,1491,1506,1525,1528,1531,1535,1536,1544,1546) have mixed types. Specify dtype option on import or set low_memory=False.\n",
      "  df_companies = pd.read_csv(r\"C:\\Users\\lucas\\OneDrive\\BA\\Data\\Ownership_Change\\MUPMIP_panel_owned.csv\",\n",
      "C:\\Users\\lucas\\AppData\\Local\\Temp\\ipykernel_34780\\1245519110.py:5: DtypeWarning: Columns (3,220,222,223,224,313,314,315,317,318,319,321,322,323,325,326,327,332,333,335,336,337,338,341,342,343,346,347,348,349,351,352,355,356,357,550,597,646,648,650,652,654,656,658,667,776,778,779,780,781,782,783,784,785,786,787,789,790,791,792,793,795,796,798,799,800,801,802,803,804,805,806,807,808,809,810,811,812,813,988,989,990,991,1045,1046,1049,1050,1051,1052,1053,1054,1055,1056,1057,1165,1248,1294,1372,1391,1392,1393,1394,1395,1396,1430,1431,1432,1433,1434,1435,1436,1437,1438,1439,1440,1441,1442,1443,1444,1445,1446,1447,1448,1449,1450,1451,1452,1453,1454,1455,1456,1485,1486,1487,1488,1489,1491,1506,1525,1535,1536) have mixed types. Specify dtype option on import or set low_memory=False.\n",
      "  df_owners = pd.read_csv(r\"C:\\Users\\lucas\\OneDrive\\BA\\Data\\Ownership_Change\\MUPMIP_panel_owner.csv\",\n"
     ]
    }
   ],
   "source": [
    "df_ownership = pd.read_csv(r\"C:\\Users\\lucas\\OneDrive\\BA\\Data\\Ownership_Change\\MUPOwn.csv\", \n",
    "                           encoding=\"ISO-8859-1\")\n",
    "df_companies = pd.read_csv(r\"C:\\Users\\lucas\\OneDrive\\BA\\Data\\Ownership_Change\\MUPMIP_panel_owned.csv\", \n",
    "                           encoding=\"ISO-8859-1\")\n",
    "df_owners = pd.read_csv(r\"C:\\Users\\lucas\\OneDrive\\BA\\Data\\Ownership_Change\\MUPMIP_panel_owner.csv\", \n",
    "                        encoding=\"ISO-8859-1\")"
   ]
  },
  {
   "cell_type": "markdown",
   "metadata": {},
   "source": [
    "The flag `b_is_main_owner` is used to seperate minority from majority shareholders (defined as the owner of at least 50% of the equity), and, where there is no information on the percentage owned, only owners with following \"characteristics\" (dt. Eigenschaft) were considered majority: \"Owner\" (Inhaber), \"Shareholder\" (Gesellschafter), \"Limited Partner\" (Kommanditist), \"General Partner\" (Komplementär), and \"Majority Shareholder\" (Hauptaktionär)"
   ]
  },
  {
   "cell_type": "code",
   "execution_count": 3,
   "metadata": {},
   "outputs": [],
   "source": [
    "df_ownership[\"b_is_main_owner\"] = np.where(df_ownership[\"b_anteil\"] >= 50 \n",
    "                                           | df_ownership[\"b_eigenschaft\"].str.contains(\n",
    "                                               \"Inhaber|Gesellschafter|Kommanditist|Komplementär|Hauptaktionär\",\n",
    "                                                 regex=True), True, False)\n",
    "df_ownership[\"b_is_main_owner\"] = np.where(df_ownership[\"b_anteil\"] < 50, False, True)"
   ]
  },
  {
   "cell_type": "markdown",
   "metadata": {},
   "source": [
    "Specify the start and end year of the participation, as a step to turn the ownership data into a panel. The entries which have no start nor end date will be assigned all the years where there are observations in the MIP data set (first year 1993, last year 2021). The end date is set to 2023 for all participations which didn't end in the observation period or where there is no information so that 2021 is within the start to end range"
   ]
  },
  {
   "cell_type": "code",
   "execution_count": 4,
   "metadata": {},
   "outputs": [],
   "source": [
    "df_ownership[\"b_start_year\"] = df_ownership[\"b_beginn\"].astype(str).str[:4]\n",
    "df_ownership[\"b_end_year\"] = df_ownership[\"b_ende\"].astype(str).str[:4]\n",
    "df_ownership[\"b_start_year\"] = np.where(df_ownership[\"b_start_year\"] == \"0.0\", 1993, df_ownership[\"b_start_year\"])\n",
    "df_ownership[\"b_start_year\"] = np.where(df_ownership[\"b_start_year\"] == \"nan\", 1993, df_ownership[\"b_start_year\"])\n",
    "df_ownership[\"b_end_year\"] = np.where(df_ownership[\"b_end_year\"] == \"0.0\", 2023, df_ownership[\"b_end_year\"])\n",
    "df_ownership[\"b_end_year\"] = np.where(df_ownership[\"b_end_year\"] == \"nan\", 2023, df_ownership[\"b_end_year\"])"
   ]
  },
  {
   "cell_type": "markdown",
   "metadata": {},
   "source": [
    "Parse `b_start_year` and `b_end_year` to integers"
   ]
  },
  {
   "cell_type": "code",
   "execution_count": 5,
   "metadata": {},
   "outputs": [],
   "source": [
    "df_ownership[\"b_start_year\"] = pd.to_numeric(df_ownership[\"b_start_year\"], downcast=\"integer\")\n",
    "df_ownership[\"b_end_year\"] = pd.to_numeric(df_ownership[\"b_end_year\"], downcast=\"integer\")"
   ]
  },
  {
   "cell_type": "markdown",
   "metadata": {},
   "source": [
    "The array `survey_years` contains all the years with sample data for the companies in the MIP panel. Now I will create dummy variables for all sample years, so that we transform the ownership data frame later to a panel"
   ]
  },
  {
   "cell_type": "code",
   "execution_count": 6,
   "metadata": {},
   "outputs": [],
   "source": [
    "survey_years = np.unique(df_companies[\"smpljahr\"])\n",
    "for i in range(len(survey_years)):\n",
    "    df_ownership[str(survey_years[i])] = np.where((df_ownership[\"b_start_year\"] <= survey_years[i]) \n",
    "                                                  & (df_ownership[\"b_end_year\"] > survey_years[i]),True, False)"
   ]
  },
  {
   "cell_type": "markdown",
   "metadata": {},
   "source": [
    "`df_panel_ownership` now has the structure of a panel data set, after using `df.melt()`"
   ]
  },
  {
   "cell_type": "code",
   "execution_count": 7,
   "metadata": {},
   "outputs": [],
   "source": [
    "df_panel_ownership = df_ownership.melt(id_vars=['crefo', 'b_crefo', 'b_eigenschaft', 'b_betrag', 'b_anteil', \n",
    "                                                'b_beginn','b_ende', 'b_firma', 'b_person', 'welle', 'companyid', \n",
    "                                                'ownerid','b_is_main_owner', 'b_start_year', 'b_end_year'],\n",
    "                                                  var_name=\"panel_year\")"
   ]
  },
  {
   "cell_type": "markdown",
   "metadata": {},
   "source": [
    "In this step, I filtered data set to only have the years where there was an observation on the owner and to only have the main owners included, and drop the variables afterwards"
   ]
  },
  {
   "cell_type": "code",
   "execution_count": 8,
   "metadata": {},
   "outputs": [],
   "source": [
    "df_panel_ownership = df_panel_ownership[df_panel_ownership[\"value\"] == True]\n",
    "df_panel_ownership = df_panel_ownership[df_panel_ownership[\"b_is_main_owner\"] == True]\n",
    "df_panel_ownership.drop(labels=[\"value\", \"b_is_main_owner\"], axis=1, inplace=True)"
   ]
  },
  {
   "cell_type": "markdown",
   "metadata": {},
   "source": [
    "Currently, we have 127.400 different owners corresponding to 25.306 companies, and 3.9 million observations in our data set"
   ]
  },
  {
   "cell_type": "code",
   "execution_count": 9,
   "metadata": {},
   "outputs": [
    {
     "name": "stdout",
     "output_type": "stream",
     "text": [
      "127400\n",
      "3949831\n",
      "25306\n"
     ]
    }
   ],
   "source": [
    "print(len(df_panel_ownership[\"b_crefo\"].unique()))\n",
    "print(len(df_panel_ownership))\n",
    "print(len(df_panel_ownership[\"companyid\"].unique()))"
   ]
  },
  {
   "cell_type": "markdown",
   "metadata": {},
   "source": [
    "Inner merge with companies data: the option `inner` when merging the ownership panel data and the companies panel data ensures that only companies with ownership data (and vice-versa, i.e. only ownership data linked to a company) end up in the merged data set"
   ]
  },
  {
   "cell_type": "code",
   "execution_count": 10,
   "metadata": {},
   "outputs": [
    {
     "data": {
      "text/html": [
       "<div>\n",
       "<style scoped>\n",
       "    .dataframe tbody tr th:only-of-type {\n",
       "        vertical-align: middle;\n",
       "    }\n",
       "\n",
       "    .dataframe tbody tr th {\n",
       "        vertical-align: top;\n",
       "    }\n",
       "\n",
       "    .dataframe thead th {\n",
       "        text-align: right;\n",
       "    }\n",
       "</style>\n",
       "<table border=\"1\" class=\"dataframe\">\n",
       "  <thead>\n",
       "    <tr style=\"text-align: right;\">\n",
       "      <th></th>\n",
       "      <th>crefo</th>\n",
       "      <th>b_crefo</th>\n",
       "      <th>b_eigenschaft</th>\n",
       "      <th>b_betrag</th>\n",
       "      <th>b_anteil</th>\n",
       "      <th>b_beginn</th>\n",
       "      <th>b_ende</th>\n",
       "      <th>b_firma</th>\n",
       "      <th>b_person</th>\n",
       "      <th>welle_x</th>\n",
       "      <th>...</th>\n",
       "      <th>ghe3</th>\n",
       "      <th>ghp1</th>\n",
       "      <th>ghp2</th>\n",
       "      <th>ghvarp</th>\n",
       "      <th>maein1</th>\n",
       "      <th>maein2</th>\n",
       "      <th>maein3</th>\n",
       "      <th>maein4</th>\n",
       "      <th>maein5</th>\n",
       "      <th>_merge</th>\n",
       "    </tr>\n",
       "  </thead>\n",
       "  <tbody>\n",
       "    <tr>\n",
       "      <th>0</th>\n",
       "      <td>8170003453</td>\n",
       "      <td>2010000581</td>\n",
       "      <td>Gesellschafter</td>\n",
       "      <td>62500000.0</td>\n",
       "      <td>50.0</td>\n",
       "      <td>0.0</td>\n",
       "      <td>20150105.0</td>\n",
       "      <td>Unternehmen</td>\n",
       "      <td>Unternehmen</td>\n",
       "      <td>30</td>\n",
       "      <td>...</td>\n",
       "      <td>NaN</td>\n",
       "      <td>NaN</td>\n",
       "      <td>NaN</td>\n",
       "      <td>NaN</td>\n",
       "      <td>NaN</td>\n",
       "      <td>NaN</td>\n",
       "      <td>NaN</td>\n",
       "      <td>NaN</td>\n",
       "      <td>NaN</td>\n",
       "      <td>matched (3)</td>\n",
       "    </tr>\n",
       "    <tr>\n",
       "      <th>1</th>\n",
       "      <td>8170003453</td>\n",
       "      <td>2010000581</td>\n",
       "      <td>Gesellschafter</td>\n",
       "      <td>62500000.0</td>\n",
       "      <td>50.0</td>\n",
       "      <td>0.0</td>\n",
       "      <td>20150105.0</td>\n",
       "      <td>Unternehmen</td>\n",
       "      <td>Unternehmen</td>\n",
       "      <td>30</td>\n",
       "      <td>...</td>\n",
       "      <td>NaN</td>\n",
       "      <td>NaN</td>\n",
       "      <td>NaN</td>\n",
       "      <td>NaN</td>\n",
       "      <td>NaN</td>\n",
       "      <td>NaN</td>\n",
       "      <td>NaN</td>\n",
       "      <td>NaN</td>\n",
       "      <td>NaN</td>\n",
       "      <td>matched (3)</td>\n",
       "    </tr>\n",
       "    <tr>\n",
       "      <th>2</th>\n",
       "      <td>8170003453</td>\n",
       "      <td>2010000581</td>\n",
       "      <td>Gesellschafter</td>\n",
       "      <td>62500000.0</td>\n",
       "      <td>50.0</td>\n",
       "      <td>0.0</td>\n",
       "      <td>20150105.0</td>\n",
       "      <td>Unternehmen</td>\n",
       "      <td>Unternehmen</td>\n",
       "      <td>30</td>\n",
       "      <td>...</td>\n",
       "      <td>NaN</td>\n",
       "      <td>NaN</td>\n",
       "      <td>NaN</td>\n",
       "      <td>NaN</td>\n",
       "      <td>NaN</td>\n",
       "      <td>NaN</td>\n",
       "      <td>NaN</td>\n",
       "      <td>NaN</td>\n",
       "      <td>NaN</td>\n",
       "      <td>matched (3)</td>\n",
       "    </tr>\n",
       "    <tr>\n",
       "      <th>3</th>\n",
       "      <td>2010169588</td>\n",
       "      <td>2010000581</td>\n",
       "      <td>Gesellschafter</td>\n",
       "      <td>1022590.0</td>\n",
       "      <td>50.0</td>\n",
       "      <td>19910204.0</td>\n",
       "      <td>0.0</td>\n",
       "      <td>Unternehmen</td>\n",
       "      <td>Unternehmen</td>\n",
       "      <td>30</td>\n",
       "      <td>...</td>\n",
       "      <td>NaN</td>\n",
       "      <td>NaN</td>\n",
       "      <td>NaN</td>\n",
       "      <td>NaN</td>\n",
       "      <td>NaN</td>\n",
       "      <td>NaN</td>\n",
       "      <td>NaN</td>\n",
       "      <td>NaN</td>\n",
       "      <td>NaN</td>\n",
       "      <td>matched (3)</td>\n",
       "    </tr>\n",
       "    <tr>\n",
       "      <th>4</th>\n",
       "      <td>2010169588</td>\n",
       "      <td>2010000581</td>\n",
       "      <td>Gesellschafter</td>\n",
       "      <td>1022590.0</td>\n",
       "      <td>50.0</td>\n",
       "      <td>19910204.0</td>\n",
       "      <td>0.0</td>\n",
       "      <td>Unternehmen</td>\n",
       "      <td>Unternehmen</td>\n",
       "      <td>30</td>\n",
       "      <td>...</td>\n",
       "      <td>NaN</td>\n",
       "      <td>NaN</td>\n",
       "      <td>NaN</td>\n",
       "      <td>NaN</td>\n",
       "      <td>NaN</td>\n",
       "      <td>NaN</td>\n",
       "      <td>NaN</td>\n",
       "      <td>NaN</td>\n",
       "      <td>NaN</td>\n",
       "      <td>matched (3)</td>\n",
       "    </tr>\n",
       "    <tr>\n",
       "      <th>...</th>\n",
       "      <td>...</td>\n",
       "      <td>...</td>\n",
       "      <td>...</td>\n",
       "      <td>...</td>\n",
       "      <td>...</td>\n",
       "      <td>...</td>\n",
       "      <td>...</td>\n",
       "      <td>...</td>\n",
       "      <td>...</td>\n",
       "      <td>...</td>\n",
       "      <td>...</td>\n",
       "      <td>...</td>\n",
       "      <td>...</td>\n",
       "      <td>...</td>\n",
       "      <td>...</td>\n",
       "      <td>...</td>\n",
       "      <td>...</td>\n",
       "      <td>...</td>\n",
       "      <td>...</td>\n",
       "      <td>...</td>\n",
       "      <td>...</td>\n",
       "    </tr>\n",
       "    <tr>\n",
       "      <th>346655</th>\n",
       "      <td>8130162928</td>\n",
       "      <td>8350233990</td>\n",
       "      <td>Geschäftsführer</td>\n",
       "      <td>NaN</td>\n",
       "      <td>NaN</td>\n",
       "      <td>20081218.0</td>\n",
       "      <td>0.0</td>\n",
       "      <td>nat. Person</td>\n",
       "      <td>nat. Person</td>\n",
       "      <td>57</td>\n",
       "      <td>...</td>\n",
       "      <td>NaN</td>\n",
       "      <td>NaN</td>\n",
       "      <td>NaN</td>\n",
       "      <td>NaN</td>\n",
       "      <td>NaN</td>\n",
       "      <td>NaN</td>\n",
       "      <td>NaN</td>\n",
       "      <td>NaN</td>\n",
       "      <td>NaN</td>\n",
       "      <td>matched (3)</td>\n",
       "    </tr>\n",
       "    <tr>\n",
       "      <th>346656</th>\n",
       "      <td>8130162928</td>\n",
       "      <td>8350233990</td>\n",
       "      <td>Geschäftsführer</td>\n",
       "      <td>NaN</td>\n",
       "      <td>NaN</td>\n",
       "      <td>20081218.0</td>\n",
       "      <td>0.0</td>\n",
       "      <td>nat. Person</td>\n",
       "      <td>nat. Person</td>\n",
       "      <td>57</td>\n",
       "      <td>...</td>\n",
       "      <td>ja</td>\n",
       "      <td>nein</td>\n",
       "      <td>ja</td>\n",
       "      <td>80.0</td>\n",
       "      <td>nein</td>\n",
       "      <td>nein</td>\n",
       "      <td>ja</td>\n",
       "      <td>nein</td>\n",
       "      <td>nein</td>\n",
       "      <td>matched (3)</td>\n",
       "    </tr>\n",
       "    <tr>\n",
       "      <th>346657</th>\n",
       "      <td>8130162928</td>\n",
       "      <td>8350233990</td>\n",
       "      <td>Gesellschafter</td>\n",
       "      <td>25564.0</td>\n",
       "      <td>100.0</td>\n",
       "      <td>20090114.0</td>\n",
       "      <td>0.0</td>\n",
       "      <td>nat. Person</td>\n",
       "      <td>nat. Person</td>\n",
       "      <td>52</td>\n",
       "      <td>...</td>\n",
       "      <td>NaN</td>\n",
       "      <td>NaN</td>\n",
       "      <td>NaN</td>\n",
       "      <td>NaN</td>\n",
       "      <td>NaN</td>\n",
       "      <td>NaN</td>\n",
       "      <td>NaN</td>\n",
       "      <td>NaN</td>\n",
       "      <td>NaN</td>\n",
       "      <td>matched (3)</td>\n",
       "    </tr>\n",
       "    <tr>\n",
       "      <th>346658</th>\n",
       "      <td>8130162928</td>\n",
       "      <td>8350233990</td>\n",
       "      <td>Gesellschafter</td>\n",
       "      <td>25564.0</td>\n",
       "      <td>100.0</td>\n",
       "      <td>20090114.0</td>\n",
       "      <td>0.0</td>\n",
       "      <td>nat. Person</td>\n",
       "      <td>nat. Person</td>\n",
       "      <td>52</td>\n",
       "      <td>...</td>\n",
       "      <td>ja</td>\n",
       "      <td>nein</td>\n",
       "      <td>ja</td>\n",
       "      <td>80.0</td>\n",
       "      <td>nein</td>\n",
       "      <td>nein</td>\n",
       "      <td>ja</td>\n",
       "      <td>nein</td>\n",
       "      <td>nein</td>\n",
       "      <td>matched (3)</td>\n",
       "    </tr>\n",
       "    <tr>\n",
       "      <th>346659</th>\n",
       "      <td>8350022229</td>\n",
       "      <td>8350324758</td>\n",
       "      <td>Inhaber</td>\n",
       "      <td>NaN</td>\n",
       "      <td>NaN</td>\n",
       "      <td>19910102.0</td>\n",
       "      <td>0.0</td>\n",
       "      <td>nat. Person</td>\n",
       "      <td>nat. Person</td>\n",
       "      <td>57</td>\n",
       "      <td>...</td>\n",
       "      <td>NaN</td>\n",
       "      <td>NaN</td>\n",
       "      <td>NaN</td>\n",
       "      <td>NaN</td>\n",
       "      <td>NaN</td>\n",
       "      <td>NaN</td>\n",
       "      <td>NaN</td>\n",
       "      <td>NaN</td>\n",
       "      <td>NaN</td>\n",
       "      <td>matched (3)</td>\n",
       "    </tr>\n",
       "  </tbody>\n",
       "</table>\n",
       "<p>346660 rows × 1631 columns</p>\n",
       "</div>"
      ],
      "text/plain": [
       "             crefo     b_crefo    b_eigenschaft    b_betrag  b_anteil  \\\n",
       "0       8170003453  2010000581   Gesellschafter  62500000.0      50.0   \n",
       "1       8170003453  2010000581   Gesellschafter  62500000.0      50.0   \n",
       "2       8170003453  2010000581   Gesellschafter  62500000.0      50.0   \n",
       "3       2010169588  2010000581   Gesellschafter   1022590.0      50.0   \n",
       "4       2010169588  2010000581   Gesellschafter   1022590.0      50.0   \n",
       "...            ...         ...              ...         ...       ...   \n",
       "346655  8130162928  8350233990  Geschäftsführer         NaN       NaN   \n",
       "346656  8130162928  8350233990  Geschäftsführer         NaN       NaN   \n",
       "346657  8130162928  8350233990   Gesellschafter     25564.0     100.0   \n",
       "346658  8130162928  8350233990   Gesellschafter     25564.0     100.0   \n",
       "346659  8350022229  8350324758          Inhaber         NaN       NaN   \n",
       "\n",
       "          b_beginn      b_ende      b_firma     b_person  welle_x  ...  ghe3  \\\n",
       "0              0.0  20150105.0  Unternehmen  Unternehmen       30  ...   NaN   \n",
       "1              0.0  20150105.0  Unternehmen  Unternehmen       30  ...   NaN   \n",
       "2              0.0  20150105.0  Unternehmen  Unternehmen       30  ...   NaN   \n",
       "3       19910204.0         0.0  Unternehmen  Unternehmen       30  ...   NaN   \n",
       "4       19910204.0         0.0  Unternehmen  Unternehmen       30  ...   NaN   \n",
       "...            ...         ...          ...          ...      ...  ...   ...   \n",
       "346655  20081218.0         0.0  nat. Person  nat. Person       57  ...   NaN   \n",
       "346656  20081218.0         0.0  nat. Person  nat. Person       57  ...    ja   \n",
       "346657  20090114.0         0.0  nat. Person  nat. Person       52  ...   NaN   \n",
       "346658  20090114.0         0.0  nat. Person  nat. Person       52  ...    ja   \n",
       "346659  19910102.0         0.0  nat. Person  nat. Person       57  ...   NaN   \n",
       "\n",
       "        ghp1  ghp2  ghvarp  maein1  maein2 maein3  maein4 maein5       _merge  \n",
       "0        NaN   NaN     NaN     NaN     NaN    NaN     NaN    NaN  matched (3)  \n",
       "1        NaN   NaN     NaN     NaN     NaN    NaN     NaN    NaN  matched (3)  \n",
       "2        NaN   NaN     NaN     NaN     NaN    NaN     NaN    NaN  matched (3)  \n",
       "3        NaN   NaN     NaN     NaN     NaN    NaN     NaN    NaN  matched (3)  \n",
       "4        NaN   NaN     NaN     NaN     NaN    NaN     NaN    NaN  matched (3)  \n",
       "...      ...   ...     ...     ...     ...    ...     ...    ...          ...  \n",
       "346655   NaN   NaN     NaN     NaN     NaN    NaN     NaN    NaN  matched (3)  \n",
       "346656  nein    ja    80.0    nein    nein     ja    nein   nein  matched (3)  \n",
       "346657   NaN   NaN     NaN     NaN     NaN    NaN     NaN    NaN  matched (3)  \n",
       "346658  nein    ja    80.0    nein    nein     ja    nein   nein  matched (3)  \n",
       "346659   NaN   NaN     NaN     NaN     NaN    NaN     NaN    NaN  matched (3)  \n",
       "\n",
       "[346660 rows x 1631 columns]"
      ]
     },
     "execution_count": 10,
     "metadata": {},
     "output_type": "execute_result"
    }
   ],
   "source": [
    "df_panel_ownership[\"panel_year\"] = pd.to_numeric(df_panel_ownership[\"panel_year\"])\n",
    "df_merged_companies = pd.merge(df_panel_ownership, df_companies, how=\"inner\", left_on=[\"panel_year\", \"companyid\"], right_on=[\"smpljahr\", \"companyid\"])\n",
    "df_merged_companies"
   ]
  },
  {
   "cell_type": "markdown",
   "metadata": {},
   "source": [
    "23.976 companies contained in the merged data set"
   ]
  },
  {
   "cell_type": "code",
   "execution_count": 11,
   "metadata": {},
   "outputs": [
    {
     "data": {
      "text/plain": [
       "23976"
      ]
     },
     "execution_count": 11,
     "metadata": {},
     "output_type": "execute_result"
    }
   ],
   "source": [
    "len(df_merged_companies[\"companyid\"].value_counts())"
   ]
  },
  {
   "cell_type": "markdown",
   "metadata": {},
   "source": [
    "Create a file with all variables and their descriptions, in order to sort out which ones are needed"
   ]
  },
  {
   "cell_type": "code",
   "execution_count": 13,
   "metadata": {},
   "outputs": [],
   "source": [
    "df_columns = pd.DataFrame(df_merged_companies.columns)\n",
    "df_columns.columns = [\"labels\"]\n",
    "df_descriptions_own = pd.read_excel(r\"C:\\Users\\lucas\\OneDrive\\BA\\Data\\MUPOwn_panel_variables.xlsx\")\n",
    "df_descriptions_mip = pd.read_excel(r\"C:\\Users\\lucas\\OneDrive\\BA\\Data\\MUPMIP_panel_variables.xlsx\")\n",
    "df_columns = pd.merge(df_columns, df_descriptions_own, how=\"left\", left_on=\"labels\", right_on=\"name\")\n",
    "df_columns = pd.merge(df_columns, df_descriptions_mip, how=\"left\", left_on=\"labels\", right_on=\"name\")\n",
    "df_columns.to_csv(r\"C:\\Users\\lucas\\OneDrive\\BA\\Data\\merged_variables.csv\")"
   ]
  },
  {
   "cell_type": "code",
   "execution_count": 15,
   "metadata": {},
   "outputs": [
    {
     "data": {
      "text/plain": [
       "b_crefo\n",
       "1      9581\n",
       "2      7241\n",
       "3      3475\n",
       "4      1574\n",
       "5       725\n",
       "6       372\n",
       "7       242\n",
       "8       169\n",
       "9       103\n",
       "10       81\n",
       "11       73\n",
       "13       55\n",
       "12       50\n",
       "14       39\n",
       "15       35\n",
       "16       27\n",
       "17       23\n",
       "19       18\n",
       "18       18\n",
       "20       16\n",
       "22       12\n",
       "27       10\n",
       "26        7\n",
       "21        7\n",
       "23        6\n",
       "37        5\n",
       "25        4\n",
       "35        4\n",
       "24        4\n",
       "34        4\n",
       "33        3\n",
       "40        3\n",
       "29        3\n",
       "28        3\n",
       "41        2\n",
       "31        2\n",
       "42        2\n",
       "189       2\n",
       "49        2\n",
       "48        2\n",
       "61        1\n",
       "39        1\n",
       "30        1\n",
       "38        1\n",
       "70        1\n",
       "206       1\n",
       "94        1\n",
       "64        1\n",
       "57        1\n",
       "43        1\n",
       "32        1\n",
       "45        1\n",
       "44        1\n",
       "Name: count, dtype: int64"
      ]
     },
     "execution_count": 15,
     "metadata": {},
     "output_type": "execute_result"
    }
   ],
   "source": [
    "df_merged_companies.groupby([\"companyid\", \"smpljahr\"])[\"b_crefo\"].nunique().value_counts()"
   ]
  },
  {
   "cell_type": "code",
   "execution_count": 16,
   "metadata": {},
   "outputs": [
    {
     "data": {
      "text/plain": [
       "b_crefo\n",
       "1      9569\n",
       "2      7229\n",
       "3      3464\n",
       "4      1570\n",
       "5       723\n",
       "6       373\n",
       "7       241\n",
       "8       169\n",
       "9       104\n",
       "10       80\n",
       "11       73\n",
       "13       54\n",
       "12       50\n",
       "14       40\n",
       "15       34\n",
       "16       28\n",
       "17       22\n",
       "18       19\n",
       "19       18\n",
       "20       15\n",
       "22       12\n",
       "27       10\n",
       "21        8\n",
       "26        7\n",
       "23        6\n",
       "37        5\n",
       "25        4\n",
       "35        4\n",
       "24        4\n",
       "34        4\n",
       "33        3\n",
       "40        3\n",
       "29        3\n",
       "28        3\n",
       "41        2\n",
       "31        2\n",
       "42        2\n",
       "189       2\n",
       "49        2\n",
       "48        2\n",
       "61        1\n",
       "39        1\n",
       "30        1\n",
       "38        1\n",
       "70        1\n",
       "206       1\n",
       "94        1\n",
       "64        1\n",
       "57        1\n",
       "43        1\n",
       "32        1\n",
       "45        1\n",
       "44        1\n",
       "Name: count, dtype: int64"
      ]
     },
     "execution_count": 16,
     "metadata": {},
     "output_type": "execute_result"
    }
   ],
   "source": [
    "df_merged_companies.groupby([\"companyid\"])[\"b_crefo\"].nunique().value_counts()"
   ]
  },
  {
   "cell_type": "code",
   "execution_count": 29,
   "metadata": {},
   "outputs": [
    {
     "data": {
      "text/plain": [
       "smpljahr\n",
       "1993     3537\n",
       "1994      539\n",
       "1995     3750\n",
       "1997      622\n",
       "1998       59\n",
       "1999     1689\n",
       "2001     3494\n",
       "2003     4031\n",
       "2004      199\n",
       "2005     8171\n",
       "2007     6031\n",
       "2008        5\n",
       "2009    10483\n",
       "2010       23\n",
       "2011     5662\n",
       "2012      295\n",
       "2013     5161\n",
       "2015     1692\n",
       "2016        8\n",
       "2017     2049\n",
       "2019     1011\n",
       "2021     1951\n",
       "Name: count, dtype: int64"
      ]
     },
     "execution_count": 29,
     "metadata": {},
     "output_type": "execute_result"
    }
   ],
   "source": [
    "df_merged_companies[df_merged_companies[\"oekpz1\"].notna()][\"smpljahr\"].value_counts().sort_index()"
   ]
  },
  {
   "cell_type": "code",
   "execution_count": 34,
   "metadata": {},
   "outputs": [
    {
     "data": {
      "text/plain": [
       "smpljahr\n",
       "1993    1028\n",
       "1994     104\n",
       "1995    1087\n",
       "1997     198\n",
       "1998      19\n",
       "1999     478\n",
       "2001    1081\n",
       "2003    1059\n",
       "2004      58\n",
       "2005    2081\n",
       "2007    1800\n",
       "2008       1\n",
       "2009    2961\n",
       "2010       5\n",
       "2011    1372\n",
       "2012      67\n",
       "2013    1257\n",
       "2015     419\n",
       "2016       3\n",
       "2017     468\n",
       "2019     202\n",
       "2021     304\n",
       "Name: count, dtype: int64"
      ]
     },
     "execution_count": 34,
     "metadata": {},
     "output_type": "execute_result"
    }
   ],
   "source": [
    "df_companies[df_companies[\"oekpz1\"].notna()][\"smpljahr\"].value_counts().sort_index()"
   ]
  },
  {
   "cell_type": "code",
   "execution_count": 35,
   "metadata": {},
   "outputs": [
    {
     "data": {
      "text/plain": [
       "smpljahr\n",
       "1993     6086\n",
       "1994      678\n",
       "1995     6629\n",
       "1996       10\n",
       "1997     1196\n",
       "1998      144\n",
       "1999     3096\n",
       "2001     6672\n",
       "2003     6637\n",
       "2004      307\n",
       "2005    13019\n",
       "2007    11215\n",
       "2008        9\n",
       "2009    12631\n",
       "2010       29\n",
       "2011    10225\n",
       "2012      812\n",
       "2013     7208\n",
       "2014        2\n",
       "2015     1688\n",
       "2016        7\n",
       "2017     3455\n",
       "2019      881\n",
       "2021      584\n",
       "Name: count, dtype: int64"
      ]
     },
     "execution_count": 35,
     "metadata": {},
     "output_type": "execute_result"
    }
   ],
   "source": [
    "df_companies[\"smpljahr\"].value_counts().sort_index()"
   ]
  }
 ],
 "metadata": {
  "kernelspec": {
   "display_name": "Python 3",
   "language": "python",
   "name": "python3"
  },
  "language_info": {
   "codemirror_mode": {
    "name": "ipython",
    "version": 3
   },
   "file_extension": ".py",
   "mimetype": "text/x-python",
   "name": "python",
   "nbconvert_exporter": "python",
   "pygments_lexer": "ipython3",
   "version": "3.11.5"
  }
 },
 "nbformat": 4,
 "nbformat_minor": 2
}

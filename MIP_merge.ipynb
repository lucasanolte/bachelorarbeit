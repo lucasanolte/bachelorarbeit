{
 "cells": [
  {
   "cell_type": "markdown",
   "metadata": {},
   "source": [
    "#MIP Merge"
   ]
  },
  {
   "cell_type": "markdown",
   "metadata": {},
   "source": [
    "This script merges the different data sets (MUP ownership data, MUP MIP panel on the owners and the companies), turns them into panels and cleans the different columns"
   ]
  },
  {
   "cell_type": "code",
   "execution_count": 26,
   "metadata": {},
   "outputs": [],
   "source": [
    "import pandas as pd\n",
    "import numpy as np"
   ]
  },
  {
   "cell_type": "markdown",
   "metadata": {},
   "source": [
    "Load the data into DataFrames"
   ]
  },
  {
   "cell_type": "code",
   "execution_count": null,
   "metadata": {},
   "outputs": [],
   "source": [
    "df_ownership = pd.read_csv(r\"C:\\Users\\lucas\\OneDrive\\BA\\Data\\Ownership_Change\\MUPOwn.csv\", encoding=\"ISO-8859-1\")\n",
    "df_companies = pd.read_csv(r\"C:\\Users\\lucas\\OneDrive\\BA\\Data\\Ownership_Change\\MUPMIP_panel_owned.csv\", encoding=\"ISO-8859-1\")\n",
    "df_owners = pd.read_csv(r\"C:\\Users\\lucas\\OneDrive\\BA\\Data\\Ownership_Change\\MUPMIP_panel_owner.csv\", encoding=\"ISO-8859-1\")"
   ]
  },
  {
   "cell_type": "markdown",
   "metadata": {},
   "source": [
    "The flag `b_is_main_owner` is used to seperate minority from majority shareholders (defined as the owner of at least 50% of the equity), and, where there is no information on the percentage owned, only owners with following \"characteristics\" (dt. Eigenschaft) were considered majority: \"Owner\" (Inhaber), \"Shareholder\" (Gesellschafter), \"Limited Partner\" (Kommanditist), \"General Partner\" (Komplementär), and \"Majority Shareholder\" (Hauptaktionär)"
   ]
  },
  {
   "cell_type": "code",
   "execution_count": 77,
   "metadata": {},
   "outputs": [],
   "source": [
    "df_ownership[\"b_is_main_owner\"] = np.where(df_ownership[\"b_anteil\"] >= 50 | df_ownership[\"b_eigenschaft\"].str.contains(\"Inhaber|Gesellschafter|Kommanditist|Komplementär|Hauptaktionär\", regex=True), True, False)\n",
    "df_ownership[\"b_is_main_owner\"] = np.where(df_ownership[\"b_anteil\"] < 50, False, True)"
   ]
  },
  {
   "cell_type": "markdown",
   "metadata": {},
   "source": [
    "Specify the start and end year of the participation, as a step to turn the ownership data into a panel. The entries which have no start nor end date will be assigned all the years of the MIP for the panel"
   ]
  },
  {
   "cell_type": "code",
   "execution_count": 80,
   "metadata": {},
   "outputs": [],
   "source": [
    "df_ownership[\"b_start_year\"] = df_ownership[\"b_beginn\"].astype(str).str[:4]\n",
    "df_ownership[\"b_end_year\"] = df_ownership[\"b_ende\"].astype(str).str[:4]"
   ]
  },
  {
   "cell_type": "code",
   "execution_count": null,
   "metadata": {},
   "outputs": [],
   "source": [
    "df_ownership[df_ownership[\"b_is_main_owner\"] == True]"
   ]
  }
 ],
 "metadata": {
  "kernelspec": {
   "display_name": "Python 3",
   "language": "python",
   "name": "python3"
  },
  "language_info": {
   "codemirror_mode": {
    "name": "ipython",
    "version": 3
   },
   "file_extension": ".py",
   "mimetype": "text/x-python",
   "name": "python",
   "nbconvert_exporter": "python",
   "pygments_lexer": "ipython3",
   "version": "3.11.5"
  }
 },
 "nbformat": 4,
 "nbformat_minor": 2
}

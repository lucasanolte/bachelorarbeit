{
 "cells": [
  {
   "cell_type": "markdown",
   "metadata": {},
   "source": [
    "#MIP Merge Data Loss"
   ]
  },
  {
   "cell_type": "markdown",
   "metadata": {},
   "source": [
    "This script documents the data lost in each step of the MIP Merge Jupyter Notebook"
   ]
  },
  {
   "cell_type": "code",
   "execution_count": 22,
   "metadata": {},
   "outputs": [],
   "source": [
    "import pandas as pd\n",
    "import numpy as np"
   ]
  },
  {
   "cell_type": "markdown",
   "metadata": {},
   "source": [
    "Load the data into DataFrames"
   ]
  },
  {
   "cell_type": "code",
   "execution_count": null,
   "metadata": {},
   "outputs": [],
   "source": [
    "df_ownership = pd.read_csv(r\"C:\\Users\\lucas\\OneDrive\\BA\\Data\\Ownership_Change\\MUPOwn.csv\", \n",
    "                           encoding=\"ISO-8859-1\")\n",
    "df_companies = pd.read_csv(r\"C:\\Users\\lucas\\OneDrive\\BA\\Data\\Ownership_Change\\MUPMIP_panel_owned.csv\", \n",
    "                           encoding=\"ISO-8859-1\")\n",
    "df_owners = pd.read_csv(r\"C:\\Users\\lucas\\OneDrive\\BA\\Data\\Ownership_Change\\MUPMIP_panel_owner.csv\", \n",
    "                        encoding=\"ISO-8859-1\")"
   ]
  },
  {
   "cell_type": "markdown",
   "metadata": {},
   "source": [
    "Create DataFrame to be populated by the data loss info"
   ]
  },
  {
   "cell_type": "code",
   "execution_count": 24,
   "metadata": {},
   "outputs": [
    {
     "name": "stdout",
     "output_type": "stream",
     "text": [
      "Number of unique companyids: 26,185\n",
      "Number of unique owners (b_crefo): 227,833\n",
      "Number of unique owners (ownerid): 10,092\n"
     ]
    }
   ],
   "source": [
    "num_companyid = len(df_ownership[\"companyid\"].unique())\n",
    "print(\"Number of unique companyids:\", f\"{num_companyid:,}\")\n",
    "num_b_crefo = len(df_ownership[\"b_crefo\"].unique())\n",
    "print(\"Number of unique owners (b_crefo):\", f\"{num_b_crefo:,}\")\n",
    "num_ownerid = len(df_ownership[\"ownerid\"].unique())\n",
    "print(\"Number of unique owners (ownerid):\", f\"{num_ownerid:,}\")\n",
    "dict = {\n",
    "    \"Step\" : \"Load data\",\n",
    "    \"companyid\" : [num_companyid],\n",
    "    \"b_crefo\" : [num_b_crefo],\n",
    "    \"ownerid\" : [num_ownerid]\n",
    "}\n",
    "df_data_loss = pd.DataFrame(dict)"
   ]
  },
  {
   "cell_type": "markdown",
   "metadata": {},
   "source": [
    "While in the 2015 and 2021 the MIP survey questions regarding environmental innovation are in a scale from 0 to 2 (0=nein, 1=gering, 2=mittel), in 2009 the scale is from 0 to 3 (0=nein, 1=gering, 2=mittel, 3=hoch). Therefore, to make the answers consistent through the years, the 3's are going to turn into 2's, as \"medium\" and \"high relevance\" can be mapped to \"important\". In addition, i'll turn the text labels into numerical values."
   ]
  },
  {
   "cell_type": "code",
   "execution_count": 25,
   "metadata": {},
   "outputs": [],
   "source": [
    "environmental_variables = [\"oekpz1\", \"oekpz2\", \"oekpz3\", \"oekpz4\", \"oekpz5\", \"oekpz6\", \"oekpz7\", \"oekpz8\", \"oekpz9\", \"oekpd1\", \"oekpd2\", \"oekpd3\", \"oekpd4\"]\n",
    "for i in range(len(environmental_variables)):\n",
    "    df_companies[environmental_variables[i]] = np.where(df_companies[environmental_variables[i]] == \"hoch\", \"mittel\", df_companies[environmental_variables[i]])\n",
    "    df_owners[environmental_variables[i]] = np.where(df_owners[environmental_variables[i]] == \"hoch\", \"mittel\", df_owners[environmental_variables[i]])\n",
    "for i in range(len(environmental_variables)):\n",
    "    #ja, gering and ja,bedeutend are labels for oekpd4\n",
    "    df_companies[environmental_variables[i]].replace(to_replace=[\"nein\", \"gering\", \"ja, gering\", \"mittel\", \"ja, bedeutend\"], value=[0, 1, 1, 2, 2], inplace=True)\n",
    "    df_owners[environmental_variables[i]].replace(to_replace=[\"nein\", \"gering\", \"ja, gering\", \"mittel\", \"ja, bedeutend\"], value=[0, 1, 1, 2, 2], inplace=True)"
   ]
  },
  {
   "cell_type": "markdown",
   "metadata": {},
   "source": [
    "The flag `b_is_main_owner` is used to seperate minority from majority shareholders (defined as the owner of at least 50% of the equity), and, where there is no information on the percentage owned, only owners with following \"characteristics\" (dt. Eigenschaft) were considered majority: \"Owner\" (Inhaber), \"Shareholder\" (Gesellschafter), \"Limited Partner\" (Kommanditist), \"General Partner\" (Komplementär), and \"Majority Shareholder\" (Hauptaktionär)"
   ]
  },
  {
   "cell_type": "code",
   "execution_count": 26,
   "metadata": {},
   "outputs": [],
   "source": [
    "df_ownership[\"b_is_main_owner\"] = np.where(df_ownership[\"b_anteil\"] >= 50, True, \n",
    "                                           np.where((df_ownership[\"b_anteil\"].isna())\n",
    "                                           & (df_ownership[\"b_eigenschaft\"].str.contains(\"Inhaber|Gesellschafter|Kommanditist|Komplementär|Hauptaktionär\", regex=True)),\n",
    "                                             True, False))"
   ]
  },
  {
   "cell_type": "markdown",
   "metadata": {},
   "source": [
    "Specify the start and end year of the participation, as a step to turn the ownership data into a panel. The entries which have no start nor end date will be assigned all the years where there are observations in the MIP data set (first year 1993, last year 2021). The end date is set to 2023 for all participations which didn't end in the observation period or where there is no information so that 2021 is within the start to end range"
   ]
  },
  {
   "cell_type": "code",
   "execution_count": 27,
   "metadata": {},
   "outputs": [],
   "source": [
    "df_ownership[\"b_start_year\"] = df_ownership[\"b_beginn\"].astype(str).str[:4]\n",
    "df_ownership[\"b_end_year\"] = df_ownership[\"b_ende\"].astype(str).str[:4]\n",
    "df_ownership[\"b_start_year\"] = np.where(df_ownership[\"b_start_year\"] == \"0.0\", 1993, df_ownership[\"b_start_year\"])\n",
    "df_ownership[\"b_start_year\"] = np.where(df_ownership[\"b_start_year\"] == \"nan\", 1993, df_ownership[\"b_start_year\"])\n",
    "df_ownership[\"b_end_year\"] = np.where(df_ownership[\"b_end_year\"] == \"0.0\", 2023, df_ownership[\"b_end_year\"])\n",
    "df_ownership[\"b_end_year\"] = np.where(df_ownership[\"b_end_year\"] == \"nan\", 2023, df_ownership[\"b_end_year\"])"
   ]
  },
  {
   "cell_type": "markdown",
   "metadata": {},
   "source": [
    "Parse `b_start_year` and `b_end_year` to integers"
   ]
  },
  {
   "cell_type": "code",
   "execution_count": 28,
   "metadata": {},
   "outputs": [],
   "source": [
    "df_ownership[\"b_start_year\"] = pd.to_numeric(df_ownership[\"b_start_year\"], downcast=\"integer\")\n",
    "df_ownership[\"b_end_year\"] = pd.to_numeric(df_ownership[\"b_end_year\"], downcast=\"integer\")"
   ]
  },
  {
   "cell_type": "markdown",
   "metadata": {},
   "source": [
    "The array `survey_years` contains all the years with sample data for the companies in the MIP panel. Now I will create dummy variables for all sample years, so that we transform the ownership data frame later to a panel"
   ]
  },
  {
   "cell_type": "code",
   "execution_count": 29,
   "metadata": {},
   "outputs": [],
   "source": [
    "survey_years = np.unique(df_companies[\"jahr\"])\n",
    "for i in range(len(survey_years)):\n",
    "    df_ownership[str(survey_years[i])] = np.where((df_ownership[\"b_start_year\"] <= survey_years[i]) \n",
    "                                                  & (df_ownership[\"b_end_year\"] > survey_years[i]),True, False)"
   ]
  },
  {
   "cell_type": "markdown",
   "metadata": {},
   "source": [
    "Drop `b_firma` since it the correct information is encoded in `b_person`. "
   ]
  },
  {
   "cell_type": "code",
   "execution_count": 30,
   "metadata": {},
   "outputs": [],
   "source": [
    "df_ownership.drop(labels=\"b_firma\", axis=1, inplace=True)"
   ]
  },
  {
   "cell_type": "markdown",
   "metadata": {},
   "source": [
    "Drop all the entries that are not a main owner"
   ]
  },
  {
   "cell_type": "code",
   "execution_count": 31,
   "metadata": {},
   "outputs": [],
   "source": [
    "df_ownership = df_ownership[df_ownership[\"b_is_main_owner\"] == True]\n",
    "df_ownership.drop(labels=[\"b_is_main_owner\"], axis=1, inplace=True)"
   ]
  },
  {
   "cell_type": "code",
   "execution_count": 32,
   "metadata": {},
   "outputs": [
    {
     "name": "stdout",
     "output_type": "stream",
     "text": [
      "Number of unique companyids: 23,195\n",
      "Number of unique owners (b_crefo): 59,034\n",
      "Number of unique owners (ownerid): 8,879\n"
     ]
    }
   ],
   "source": [
    "num_companyid = len(df_ownership[\"companyid\"].unique())\n",
    "print(\"Number of unique companyids:\", f\"{num_companyid:,}\")\n",
    "num_b_crefo = len(df_ownership[\"b_crefo\"].unique())\n",
    "print(\"Number of unique owners (b_crefo):\", f\"{num_b_crefo:,}\")\n",
    "num_ownerid = len(df_ownership[\"ownerid\"].unique())\n",
    "print(\"Number of unique owners (ownerid):\", f\"{num_ownerid:,}\")\n",
    "df_data_loss.loc[len(df_data_loss.index)] = [\"Drop all owners that are not a main owner\", num_companyid, num_b_crefo, num_ownerid]"
   ]
  },
  {
   "cell_type": "markdown",
   "metadata": {},
   "source": [
    "If there are with the same `b_crefo` for the same year, keep the entry with the most recent wave"
   ]
  },
  {
   "cell_type": "code",
   "execution_count": 33,
   "metadata": {},
   "outputs": [],
   "source": [
    "df_ownership.sort_values(by=\"welle\", axis=0, ascending=False, inplace=True)\n",
    "df_ownership.drop_duplicates([\"b_crefo\", \"companyid\"], keep=\"first\", inplace=True)"
   ]
  },
  {
   "cell_type": "markdown",
   "metadata": {},
   "source": [
    "Drop all companies where there are more than 5 owners, and then assign a number from 1 to 5 for the pivot table afterwards"
   ]
  },
  {
   "cell_type": "code",
   "execution_count": 34,
   "metadata": {},
   "outputs": [],
   "source": [
    "df_ownership = df_ownership.groupby([\"companyid\"]).filter(lambda x: len(x) < 6)\n",
    "df_ownership[\"owner_number\"] = df_ownership.groupby([\"companyid\"])[\"b_crefo\"].rank(method=\"min\")"
   ]
  },
  {
   "cell_type": "code",
   "execution_count": 35,
   "metadata": {},
   "outputs": [
    {
     "name": "stdout",
     "output_type": "stream",
     "text": [
      "Number of unique companyids: 22,127\n",
      "Number of unique owners (b_crefo): 42,741\n",
      "Number of unique owners (ownerid): 1,538\n"
     ]
    }
   ],
   "source": [
    "num_companyid = len(df_ownership[\"companyid\"].unique())\n",
    "print(\"Number of unique companyids:\", f\"{num_companyid:,}\")\n",
    "num_b_crefo = len(df_ownership[\"b_crefo\"].unique())\n",
    "print(\"Number of unique owners (b_crefo):\", f\"{num_b_crefo:,}\")\n",
    "num_ownerid = len(df_ownership[\"ownerid\"].unique())\n",
    "print(\"Number of unique owners (ownerid):\", f\"{num_ownerid:,}\")\n",
    "df_data_loss.loc[len(df_data_loss.index)] = [\"Drop companies with more than five owners\", num_companyid, num_b_crefo, num_ownerid]"
   ]
  },
  {
   "cell_type": "markdown",
   "metadata": {},
   "source": [
    "`df_panel_ownership` now has the structure of a panel data set, after using `df.melt()`"
   ]
  },
  {
   "cell_type": "code",
   "execution_count": 36,
   "metadata": {},
   "outputs": [],
   "source": [
    "df_panel_ownership = df_ownership.melt(id_vars=['crefo', 'b_crefo', 'b_eigenschaft', 'b_betrag', 'b_anteil', \n",
    "                                                'b_beginn','b_ende', 'b_person', 'welle', 'companyid', \n",
    "                                                'ownerid', 'b_start_year', 'b_end_year', 'owner_number'],\n",
    "                                                  var_name=\"panel_year\")"
   ]
  },
  {
   "cell_type": "markdown",
   "metadata": {},
   "source": [
    "In this step, I filtered the data set to only have the years where there was an observation of the owner (i.e., the owner was owned the company at that year), and drop the `value` variable afterwards. I also removed the owners which do not have a `companyid`."
   ]
  },
  {
   "cell_type": "code",
   "execution_count": 37,
   "metadata": {},
   "outputs": [],
   "source": [
    "df_panel_ownership = df_panel_ownership[df_panel_ownership[\"value\"] == True]\n",
    "df_panel_ownership = df_panel_ownership[df_panel_ownership[\"companyid\"] >= 0]\n",
    "df_panel_ownership.drop(labels=[\"value\"], axis=1, inplace=True)"
   ]
  },
  {
   "cell_type": "code",
   "execution_count": 38,
   "metadata": {},
   "outputs": [
    {
     "name": "stdout",
     "output_type": "stream",
     "text": [
      "Number of unique companyids: 22,074\n",
      "Number of unique owners (b_crefo): 40,278\n",
      "Number of unique owners (ownerid): 1,424\n"
     ]
    }
   ],
   "source": [
    "num_companyid = len(df_panel_ownership[\"companyid\"].unique())\n",
    "print(\"Number of unique companyids:\", f\"{num_companyid:,}\")\n",
    "num_b_crefo = len(df_panel_ownership[\"b_crefo\"].unique())\n",
    "print(\"Number of unique owners (b_crefo):\", f\"{num_b_crefo:,}\")\n",
    "num_ownerid = len(df_panel_ownership[\"ownerid\"].unique())\n",
    "print(\"Number of unique owners (ownerid):\", f\"{num_ownerid:,}\")\n",
    "df_data_loss.loc[len(df_data_loss.index)] = [\"Drop invalid companyids and owners without a corresponding companyid\", num_companyid, num_b_crefo, num_ownerid]"
   ]
  },
  {
   "cell_type": "markdown",
   "metadata": {},
   "source": [
    "Create a pivot table so that with `b_crefo` as value to match afterwards with the ownership table. This enables us to later check for changes in ownership more easily. NaN are filled with zero so that ownership changes can be spotted by subtracting a year's `b_crefo` value by last year's value. "
   ]
  },
  {
   "cell_type": "code",
   "execution_count": 39,
   "metadata": {},
   "outputs": [],
   "source": [
    "df_pivot_ownership = df_panel_ownership.pivot(index=[\"companyid\", \"panel_year\"], columns=\"owner_number\", values=\"b_crefo\").reset_index()\n",
    "df_pivot_ownership.fillna(0, inplace=True)"
   ]
  },
  {
   "cell_type": "markdown",
   "metadata": {},
   "source": [
    "Here we add up all the five different `b_crefo` together so that if there is a new owner or an old owner leaves, we can see that through the difference of this sum from one year to the next"
   ]
  },
  {
   "cell_type": "code",
   "execution_count": 40,
   "metadata": {},
   "outputs": [],
   "source": [
    "df_pivot_ownership[\"owner_sum\"] = df_pivot_ownership[1.0] + df_pivot_ownership[2.0] + df_pivot_ownership[3.0] + df_pivot_ownership[4.0] + df_pivot_ownership[5.0] \n",
    "df_pivot_ownership = df_pivot_ownership.assign(diff=df_pivot_ownership.groupby(['companyid']).owner_sum.diff())\n",
    "df_pivot_ownership.fillna(0, inplace=True)\n",
    "df_pivot_ownership[\"is_owner_change\"] = np.where(df_pivot_ownership[\"diff\"] != 0, True, False)                           "
   ]
  },
  {
   "cell_type": "markdown",
   "metadata": {},
   "source": [
    "Left outer merge with companies data: the option `left` when merging the ownership panel data and the companies panel data ensures that all ownership panel entries are kept and match with the available company panel data\n"
   ]
  },
  {
   "cell_type": "code",
   "execution_count": 41,
   "metadata": {},
   "outputs": [],
   "source": [
    "df_pivot_ownership[\"panel_year\"] = pd.to_numeric(df_pivot_ownership[\"panel_year\"])\n",
    "df_merged_companies = pd.merge(df_pivot_ownership, df_companies, how=\"left\", left_on=[\"panel_year\", \"companyid\"], right_on=[\"jahr\", \"companyid\"])"
   ]
  },
  {
   "cell_type": "markdown",
   "metadata": {},
   "source": [
    "Create a ownerid table, where all `b_crefo` values are mapped to NaN or to a `ownerid` value"
   ]
  },
  {
   "cell_type": "code",
   "execution_count": 42,
   "metadata": {},
   "outputs": [],
   "source": [
    "df_ownerid_table = pd.read_csv(r\"C:\\Users\\lucas\\OneDrive\\BA\\Data\\Ownership_Change\\MUPOwn.csv\", \n",
    "                           encoding=\"ISO-8859-1\")\n",
    "df_ownerid_table = df_ownerid_table[[\"b_crefo\", \"ownerid\"]]\n",
    "df_ownerid_table.drop_duplicates(inplace=True)\n",
    "df_ownerid_table.fillna(0, inplace=True)"
   ]
  },
  {
   "cell_type": "markdown",
   "metadata": {},
   "source": [
    "Create columns with `ownerid` entries and rename them after the merger"
   ]
  },
  {
   "cell_type": "code",
   "execution_count": 43,
   "metadata": {},
   "outputs": [],
   "source": [
    "df_merged_companies.rename({\n",
    "        1.0 : \"b_crefo_1\",\n",
    "        2.0 : \"b_crefo_2\",\n",
    "        3.0 : \"b_crefo_3\",\n",
    "        4.0 : \"b_crefo_4\",\n",
    "        5.0 : \"b_crefo_5\"\n",
    "    }, axis=1, inplace=True)\n",
    "for i in np.arange(start=1, stop=6):\n",
    "    current_column = \"b_crefo_\" + str(i)\n",
    "    df_merged_companies = pd.merge(df_ownerid_table, df_merged_companies, left_on=[\"b_crefo\"], right_on=[current_column], how=\"right\", suffixes=(str(i), ''))"
   ]
  },
  {
   "cell_type": "code",
   "execution_count": 44,
   "metadata": {},
   "outputs": [],
   "source": [
    "df_merged_companies.drop([\"b_crefo5\", \"b_crefo4\", \"b_crefo3\", \"b_crefo2\", \"b_crefo\"], axis=1, inplace=True)\n",
    "df_merged_companies.rename({\n",
    "    \"ownerid\" : \"ownerid_1\",\n",
    "    \"ownerid2\" : \"ownerid_2\",\n",
    "    \"ownerid3\" : \"ownerid_3\",\n",
    "    \"ownerid4\" : \"ownerid_4\",\n",
    "    \"ownerid5\" : \"ownerid_5\"\n",
    "}, axis=1, inplace=True)"
   ]
  },
  {
   "cell_type": "markdown",
   "metadata": {},
   "source": [
    "`is_ownerid_change` indicates if there is a change of ownership of owners which are included in the MIP data set (and therefore have an `ownerid`)"
   ]
  },
  {
   "cell_type": "code",
   "execution_count": 45,
   "metadata": {},
   "outputs": [],
   "source": [
    "df_merged_companies[\"ownerid_sum\"] = df_merged_companies[\"ownerid_1\"] + df_merged_companies[\"ownerid_2\"] +df_merged_companies[\"ownerid_3\"] + df_merged_companies[\"ownerid_4\"] + df_merged_companies[\"ownerid_5\"]\n",
    "df_merged_companies = df_merged_companies.assign(ownerid_diff=df_merged_companies.groupby(['companyid']).ownerid_sum.diff())\n",
    "df_merged_companies[\"ownerid_diff\"] = df_merged_companies[\"ownerid_diff\"].fillna(0)\n",
    "df_merged_companies[\"is_ownerid_change\"] = np.where(df_merged_companies[\"ownerid_diff\"] != 0, True, False)"
   ]
  },
  {
   "cell_type": "markdown",
   "metadata": {},
   "source": [
    "Create a table where the `ownerid` are matched with their MIP panel data information "
   ]
  },
  {
   "cell_type": "code",
   "execution_count": 46,
   "metadata": {},
   "outputs": [],
   "source": [
    "df_merged_owners = df_merged_companies[[\"ownerid_1\", \"ownerid_2\", \"ownerid_3\", \"ownerid_4\", \"ownerid_5\", \"companyid\", \"panel_year\"]]\n",
    "df_merged_owners = df_merged_owners.melt(id_vars=[\"companyid\", \"panel_year\"], value_name=\"ownerid\")\n",
    "df_merged_owners.drop(df_merged_owners[df_merged_owners[\"ownerid\"] == 0.0].index, inplace=True)\n",
    "df_merged_owners.drop(\"variable\", axis=1, inplace=True)\n",
    "df_merged_owners = pd.merge(left=df_merged_owners, right=df_owners, left_on=[\"panel_year\", \"ownerid\"], right_on=[\"jahr\", \"ownerid\"], how=\"left\")"
   ]
  },
  {
   "cell_type": "markdown",
   "metadata": {},
   "source": [
    "Save the end results"
   ]
  },
  {
   "cell_type": "code",
   "execution_count": 47,
   "metadata": {},
   "outputs": [],
   "source": [
    "# df_merged_companies.to_csv(r\"C:\\Users\\lucas\\OneDrive\\BA\\Data\\outputs\\merged_companies.csv\")\n",
    "# df_merged_owners.to_csv(r\"C:\\Users\\lucas\\OneDrive\\BA\\Data\\outputs\\merged_owners.csv\")\n",
    "df_data_loss.to_excel(r\"C:\\Users\\lucas\\OneDrive\\BA\\Data\\outputs\\data_loss.xlsx\")"
   ]
  }
 ],
 "metadata": {
  "kernelspec": {
   "display_name": "Python 3",
   "language": "python",
   "name": "python3"
  },
  "language_info": {
   "codemirror_mode": {
    "name": "ipython",
    "version": 3
   },
   "file_extension": ".py",
   "mimetype": "text/x-python",
   "name": "python",
   "nbconvert_exporter": "python",
   "pygments_lexer": "ipython3",
   "version": "3.11.5"
  }
 },
 "nbformat": 4,
 "nbformat_minor": 2
}
